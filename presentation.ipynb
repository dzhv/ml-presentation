{
 "cells": [
  {
   "cell_type": "code",
   "execution_count": 9,
   "id": "7981f007",
   "metadata": {},
   "outputs": [],
   "source": [
    "import torch\n",
    "import torchvision\n",
    "from torchvision.datasets import MNIST\n",
    "from torchvision import transforms\n",
    "from torch.utils.data import random_split\n",
    "import numpy as np\n",
    "from torch import nn"
   ]
  },
  {
   "cell_type": "code",
   "execution_count": 2,
   "id": "6dc39cad",
   "metadata": {},
   "outputs": [
    {
     "data": {
      "text/html": [
       "<style>.container { width:90% !important; }</style>"
      ],
      "text/plain": [
       "<IPython.core.display.HTML object>"
      ]
     },
     "metadata": {},
     "output_type": "display_data"
    }
   ],
   "source": [
    "from IPython.display import display, HTML\n",
    "display(HTML(\"<style>.container { width:90% !important; }</style>\"))"
   ]
  },
  {
   "cell_type": "code",
   "execution_count": 3,
   "id": "566271e9",
   "metadata": {},
   "outputs": [],
   "source": [
    "import matplotlib.pyplot as plt\n",
    "plt.rcParams.update({'font.size': 14})"
   ]
  },
  {
   "cell_type": "markdown",
   "id": "538e8349",
   "metadata": {},
   "source": [
    "# DATA"
   ]
  },
  {
   "cell_type": "code",
   "execution_count": 4,
   "id": "cebef08c",
   "metadata": {},
   "outputs": [
    {
     "name": "stdout",
     "output_type": "stream",
     "text": [
      "training set len: 60000\n",
      "val set len: 5000\n",
      "test set len: 5000\n"
     ]
    }
   ],
   "source": [
    "train_images = MNIST(root='./data', train=True, download=True)\n",
    "train_data = MNIST(root='./data', train=True, download=True, transform=transforms.ToTensor())\n",
    "\n",
    "val_and_test_data = MNIST(root='./data', train=False, download=True, transform=transforms.ToTensor())\n",
    "val_data, test_data = random_split(val_and_test_data, [5000, 5000])\n",
    "\n",
    "print(f\"training set len: {len(train_data)}\")\n",
    "print(f\"val set len: {len(val_data)}\")\n",
    "print(f\"test set len: {len(test_data)}\")"
   ]
  },
  {
   "cell_type": "code",
   "execution_count": 5,
   "id": "ad1fe084",
   "metadata": {},
   "outputs": [],
   "source": [
    "from torch.utils.data import DataLoader\n",
    "\n",
    "train_loader = torch.utils.data.DataLoader(train_data, batch_size=10, shuffle=True, num_workers=1)\n",
    "val_loader = torch.utils.data.DataLoader(val_data, batch_size=10, shuffle=True, num_workers=1)\n",
    "test_loader = torch.utils.data.DataLoader(test_data, batch_size=1, shuffle=True, num_workers=1)"
   ]
  },
  {
   "cell_type": "code",
   "execution_count": 6,
   "id": "f1a52fcd",
   "metadata": {},
   "outputs": [],
   "source": [
    "def show_data_samples(data):\n",
    "    figure = plt.figure(figsize=(14, 7))\n",
    "    cols, rows = 4, 3\n",
    "    for i in range(1, cols * rows + 1):\n",
    "        sample_idx = torch.randint(len(data), size=(1,)).item()\n",
    "        img, label = data[sample_idx]\n",
    "        figure.add_subplot(rows, cols, i)    \n",
    "        plt.axis(\"off\")\n",
    "        plt.imshow(img, cmap=\"gray\")\n",
    "    plt.show()"
   ]
  },
  {
   "cell_type": "code",
   "execution_count": 7,
   "id": "8cad862c",
   "metadata": {
    "scrolled": false
   },
   "outputs": [
    {
     "data": {
      "image/png": "[encoded data removed]",
      "text/plain": [
       "<Figure size 1400x700 with 12 Axes>"
      ]
     },
     "metadata": {},
     "output_type": "display_data"
    }
   ],
   "source": [
    "show_data_samples(train_images)"
   ]
  },
  {
   "cell_type": "markdown",
   "id": "1f9f7ee0",
   "metadata": {},
   "source": [
    " "
   ]
  },
  {
   "cell_type": "markdown",
   "id": "14d3e4c5",
   "metadata": {},
   "source": [
    " "
   ]
  },
  {
   "cell_type": "markdown",
   "id": "c214ae63",
   "metadata": {},
   "source": [
    " "
   ]
  },
  {
   "cell_type": "markdown",
   "id": "b109c7de",
   "metadata": {},
   "source": [
    " "
   ]
  },
  {
   "cell_type": "markdown",
   "id": "0a45df0c",
   "metadata": {},
   "source": [
    " "
   ]
  },
  {
   "cell_type": "markdown",
   "id": "a9aedbd1",
   "metadata": {},
   "source": [
    " "
   ]
  },
  {
   "cell_type": "markdown",
   "id": "9f3a7c3c",
   "metadata": {},
   "source": [
    " "
   ]
  },
  {
   "cell_type": "markdown",
   "id": "9d755e89",
   "metadata": {},
   "source": [
    "# Model as a function"
   ]
  },
  {
   "cell_type": "markdown",
   "id": "1fb4070a",
   "metadata": {},
   "source": [
    " ![title](images/black_box.png)"
   ]
  },
  {
   "cell_type": "markdown",
   "id": "3a08e56e",
   "metadata": {},
   "source": [
    " "
   ]
  },
  {
   "cell_type": "markdown",
   "id": "6a159cae",
   "metadata": {},
   "source": [
    " "
   ]
  },
  {
   "cell_type": "markdown",
   "id": "df80851c",
   "metadata": {},
   "source": [
    " "
   ]
  },
  {
   "cell_type": "markdown",
   "id": "8546d8d1",
   "metadata": {},
   "source": [
    " "
   ]
  },
  {
   "cell_type": "markdown",
   "id": "9a3c25dd",
   "metadata": {},
   "source": [
    " "
   ]
  },
  {
   "cell_type": "markdown",
   "id": "1c562c35",
   "metadata": {},
   "source": [
    " "
   ]
  },
  {
   "cell_type": "markdown",
   "id": "85662cf4",
   "metadata": {},
   "source": [
    " "
   ]
  },
  {
   "cell_type": "markdown",
   "id": "b7975879",
   "metadata": {},
   "source": [
    " "
   ]
  },
  {
   "cell_type": "markdown",
   "id": "7775bd0d",
   "metadata": {},
   "source": [
    " "
   ]
  },
  {
   "cell_type": "markdown",
   "id": "4d75b981",
   "metadata": {},
   "source": [
    " "
   ]
  },
  {
   "cell_type": "markdown",
   "id": "e1b7854f",
   "metadata": {},
   "source": [
    " "
   ]
  },
  {
   "cell_type": "markdown",
   "id": "6c7c5d3b",
   "metadata": {},
   "source": [
    " "
   ]
  },
  {
   "cell_type": "markdown",
   "id": "a6c7e387",
   "metadata": {},
   "source": [
    " "
   ]
  },
  {
   "cell_type": "markdown",
   "id": "d26e4902",
   "metadata": {},
   "source": [
    "![title](images/function_picture.jpg)"
   ]
  },
  {
   "cell_type": "markdown",
   "id": "c7689133",
   "metadata": {},
   "source": [
    " "
   ]
  },
  {
   "cell_type": "markdown",
   "id": "ddcb8eb5",
   "metadata": {},
   "source": [
    " "
   ]
  },
  {
   "cell_type": "markdown",
   "id": "4d32d8b1",
   "metadata": {},
   "source": [
    " "
   ]
  },
  {
   "cell_type": "markdown",
   "id": "4f426f01",
   "metadata": {},
   "source": [
    " "
   ]
  },
  {
   "cell_type": "markdown",
   "id": "e8bff206",
   "metadata": {},
   "source": [
    " "
   ]
  },
  {
   "cell_type": "markdown",
   "id": "c6f75ce7",
   "metadata": {},
   "source": [
    " "
   ]
  },
  {
   "cell_type": "markdown",
   "id": "7a4ddd67",
   "metadata": {},
   "source": [
    " "
   ]
  },
  {
   "cell_type": "markdown",
   "id": "da588bb7",
   "metadata": {},
   "source": [
    " "
   ]
  },
  {
   "cell_type": "markdown",
   "id": "3096d1cd",
   "metadata": {},
   "source": [
    " "
   ]
  },
  {
   "cell_type": "markdown",
   "id": "9e3c33d1",
   "metadata": {},
   "source": [
    " "
   ]
  },
  {
   "cell_type": "markdown",
   "id": "9624de15",
   "metadata": {},
   "source": [
    " "
   ]
  },
  {
   "cell_type": "markdown",
   "id": "965204c4",
   "metadata": {},
   "source": [
    " "
   ]
  },
  {
   "cell_type": "markdown",
   "id": "a1ea6445",
   "metadata": {},
   "source": [
    " "
   ]
  },
  {
   "cell_type": "markdown",
   "id": "316a8a89",
   "metadata": {},
   "source": [
    " "
   ]
  },
  {
   "cell_type": "markdown",
   "id": "577de0c2",
   "metadata": {},
   "source": [
    " "
   ]
  },
  {
   "cell_type": "markdown",
   "id": "0b38d0b1",
   "metadata": {},
   "source": [
    " "
   ]
  },
  {
   "cell_type": "markdown",
   "id": "8752d499",
   "metadata": {},
   "source": [
    " "
   ]
  },
  {
   "cell_type": "markdown",
   "id": "73641c47",
   "metadata": {},
   "source": [
    " "
   ]
  },
  {
   "cell_type": "markdown",
   "id": "d4694c36",
   "metadata": {},
   "source": [
    " "
   ]
  },
  {
   "cell_type": "markdown",
   "id": "7d6c8008",
   "metadata": {},
   "source": [
    " "
   ]
  },
  {
   "cell_type": "markdown",
   "id": "ec189165",
   "metadata": {},
   "source": [
    "$$ \n",
    "  \\Huge{f(p_1, p_2, ..., p_{784}) = d}\n",
    "$$\n"
   ]
  },
  {
   "cell_type": "markdown",
   "id": "44b6eb1b",
   "metadata": {},
   "source": [
    " "
   ]
  },
  {
   "cell_type": "markdown",
   "id": "467bdc7c",
   "metadata": {},
   "source": [
    " "
   ]
  },
  {
   "cell_type": "markdown",
   "id": "790ad6eb",
   "metadata": {},
   "source": [
    " "
   ]
  },
  {
   "cell_type": "markdown",
   "id": "261ded41",
   "metadata": {},
   "source": [
    " "
   ]
  },
  {
   "cell_type": "markdown",
   "id": "3655e9c2",
   "metadata": {},
   "source": [
    " "
   ]
  },
  {
   "cell_type": "markdown",
   "id": "9e617b86",
   "metadata": {},
   "source": [
    " "
   ]
  },
  {
   "cell_type": "markdown",
   "id": "b6631ce1",
   "metadata": {},
   "source": [
    " "
   ]
  },
  {
   "cell_type": "markdown",
   "id": "5d23defc",
   "metadata": {},
   "source": [
    " "
   ]
  },
  {
   "cell_type": "markdown",
   "id": "ed2238fb",
   "metadata": {},
   "source": [
    " "
   ]
  },
  {
   "cell_type": "markdown",
   "id": "17ec1065",
   "metadata": {},
   "source": [
    " "
   ]
  },
  {
   "cell_type": "markdown",
   "id": "91b08c4c",
   "metadata": {},
   "source": [
    " "
   ]
  },
  {
   "cell_type": "markdown",
   "id": "9c2738b4",
   "metadata": {},
   "source": [
    " "
   ]
  },
  {
   "cell_type": "markdown",
   "id": "3ae4e769",
   "metadata": {},
   "source": [
    " $$ \n",
    "  \\Huge{f(p_1, p_2, ..., p_{784}) = [ o_1, o_2, ..., o_{10} ]}\n",
    "$$\n"
   ]
  },
  {
   "cell_type": "markdown",
   "id": "0243121e",
   "metadata": {},
   "source": [
    " "
   ]
  },
  {
   "cell_type": "markdown",
   "id": "13af1fc7",
   "metadata": {},
   "source": [
    " "
   ]
  },
  {
   "cell_type": "markdown",
   "id": "56a23599",
   "metadata": {},
   "source": [
    " "
   ]
  },
  {
   "cell_type": "markdown",
   "id": "cde5376c",
   "metadata": {},
   "source": [
    " "
   ]
  },
  {
   "cell_type": "markdown",
   "id": "829c1772",
   "metadata": {},
   "source": [
    " "
   ]
  },
  {
   "cell_type": "markdown",
   "id": "d55c4e95",
   "metadata": {},
   "source": [
    " "
   ]
  },
  {
   "cell_type": "markdown",
   "id": "cc764326",
   "metadata": {},
   "source": [
    "    "
   ]
  },
  {
   "cell_type": "markdown",
   "id": "f87c9986",
   "metadata": {},
   "source": [
    " "
   ]
  },
  {
   "cell_type": "markdown",
   "id": "29d59b15",
   "metadata": {},
   "source": [
    " "
   ]
  },
  {
   "cell_type": "markdown",
   "id": "483f360d",
   "metadata": {},
   "source": [
    "![title](images/nn.png)"
   ]
  },
  {
   "cell_type": "code",
   "execution_count": 15,
   "id": "ffc468f5",
   "metadata": {},
   "outputs": [],
   "source": [
    "class NeuralNetwork(nn.Module):\n",
    "    '''\n",
    "    Multilayer Perceptron.\n",
    "    '''\n",
    "    def __init__(self):\n",
    "        super().__init__()\n",
    "        self.layers = nn.Sequential( \n",
    "            nn.Flatten(),\n",
    "            nn.Linear(784, 128),\n",
    "            nn.ReLU(), # tanh, sigmoid, \n",
    "            nn.Linear(128, 64),\n",
    "            nn.ReLU(), # tanh, sigmoid, \n",
    "            nn.Linear(64, 32),\n",
    "            nn.ReLU(), # tanh, sigmoid, \n",
    "            nn.Linear(32, 10)\n",
    "        )\n",
    "\n",
    "    def forward(self, x):\n",
    "        '''Forward pass'''\n",
    "        return self.layers(x)"
   ]
  },
  {
   "cell_type": "markdown",
   "id": "f4b50899",
   "metadata": {},
   "source": [
    "# TRAINING"
   ]
  },
  {
   "cell_type": "code",
   "execution_count": 16,
   "id": "7dadd52f",
   "metadata": {},
   "outputs": [],
   "source": [
    "model = NeuralNetwork()"
   ]
  },
  {
   "cell_type": "code",
   "execution_count": 17,
   "id": "eabe5483",
   "metadata": {},
   "outputs": [
    {
     "data": {
      "text/plain": [
       "tensor([[-0.1697, -0.1134,  0.0372, -0.0006, -0.1492,  0.0415, -0.1469,  0.0135,\n",
       "         -0.0751, -0.0372]], grad_fn=<AddmmBackward0>)"
      ]
     },
     "execution_count": 17,
     "metadata": {},
     "output_type": "execute_result"
    }
   ],
   "source": [
    "inputs, targets = train_data[0]\n",
    "model(inputs)"
   ]
  },
  {
   "cell_type": "code",
   "execution_count": 25,
   "id": "f8036981",
   "metadata": {},
   "outputs": [],
   "source": [
    "config = {\n",
    "    \"lr\": 0.0001,\n",
    "    \"epochs\": 5\n",
    "}"
   ]
  },
  {
   "cell_type": "code",
   "execution_count": 29,
   "id": "96d0281b",
   "metadata": {},
   "outputs": [],
   "source": [
    "def train(model, train_data, val_data, config):\n",
    "    loss_function = nn.CrossEntropyLoss()\n",
    "    optimizer = torch.optim.Adam(model.parameters(), lr=config[\"lr\"])    \n",
    "    \n",
    "    stats = {\n",
    "        'train_losses': [],\n",
    "        'val_losses': []\n",
    "    }\n",
    "    \n",
    "    for epoch in range(config[\"epochs\"]):\n",
    "        train_loss = 0\n",
    "        for i, data in enumerate(train_data):\n",
    "            # a single image, the answer we expected\n",
    "            inputs, targets = data\n",
    "\n",
    "            optimizer.zero_grad()\n",
    "\n",
    "            outputs = model(inputs)\n",
    "\n",
    "            loss = loss_function(outputs, targets)\n",
    "\n",
    "            loss.backward()\n",
    "            optimizer.step()\n",
    "\n",
    "            train_loss += loss.item()\n",
    "            if i % 500 == 499:\n",
    "                print('Loss after mini-batch %5d: %.3f' % (i + 1, train_loss / i))   \n",
    "        \n",
    "        stats['train_losses'].append(train_loss / len(train_data))\n",
    "        \n",
    "        val_loss = 0\n",
    "        for i, data in enumerate(val_data):\n",
    "            # Get inputs\n",
    "            inputs, targets = data\n",
    "  \n",
    "            outputs = model(inputs)\n",
    "            val_loss += loss_function(outputs, targets).item()\n",
    "\n",
    "        average_loss = val_loss / len(val_data)\n",
    "        stats['val_losses'].append(average_loss)\n",
    "        \n",
    "        print(f\"Average Val loss: {average_loss}\")\n",
    "        \n",
    "    return stats\n",
    "        "
   ]
  },
  {
   "cell_type": "code",
   "execution_count": 20,
   "id": "d3bace3f",
   "metadata": {},
   "outputs": [
    {
     "data": {
      "text/plain": [
       "10.701184491131796"
      ]
     },
     "execution_count": 20,
     "metadata": {},
     "output_type": "execute_result"
    }
   ],
   "source": [
    "loss_function = nn.CrossEntropyLoss()\n",
    "# our model guesses: \"2\"\n",
    "outputs = [1, 0, 3, 2, 10, 5, 3, 2, 10, 5]\n",
    "target = 1  \n",
    "\n",
    "outputs = torch.tensor(outputs, dtype=float)\n",
    "target = torch.tensor(target, dtype=int)\n",
    "\n",
    "loss_function(outputs, target).item()"
   ]
  },
  {
   "cell_type": "code",
   "execution_count": 30,
   "id": "d820a0ac",
   "metadata": {},
   "outputs": [
    {
     "name": "stdout",
     "output_type": "stream",
     "text": [
      "Loss after mini-batch   500: 0.266\n",
      "Loss after mini-batch  1000: 0.255\n",
      "Loss after mini-batch  1500: 0.255\n",
      "Loss after mini-batch  2000: 0.252\n",
      "Loss after mini-batch  2500: 0.248\n",
      "Loss after mini-batch  3000: 0.244\n",
      "Loss after mini-batch  3500: 0.244\n",
      "Loss after mini-batch  4000: 0.242\n",
      "Loss after mini-batch  4500: 0.239\n",
      "Loss after mini-batch  5000: 0.236\n",
      "Loss after mini-batch  5500: 0.235\n",
      "Loss after mini-batch  6000: 0.232\n",
      "Average Val loss: 0.2054830165929161\n",
      "Loss after mini-batch   500: 0.200\n",
      "Loss after mini-batch  1000: 0.196\n",
      "Loss after mini-batch  1500: 0.195\n",
      "Loss after mini-batch  2000: 0.196\n",
      "Loss after mini-batch  2500: 0.195\n",
      "Loss after mini-batch  3000: 0.193\n",
      "Loss after mini-batch  3500: 0.194\n",
      "Loss after mini-batch  4000: 0.190\n",
      "Loss after mini-batch  4500: 0.188\n",
      "Loss after mini-batch  5000: 0.188\n",
      "Loss after mini-batch  5500: 0.187\n",
      "Loss after mini-batch  6000: 0.186\n",
      "Average Val loss: 0.16389281193632632\n",
      "Loss after mini-batch   500: 0.158\n",
      "Loss after mini-batch  1000: 0.153\n",
      "Loss after mini-batch  1500: 0.157\n",
      "Loss after mini-batch  2000: 0.156\n",
      "Loss after mini-batch  2500: 0.158\n",
      "Loss after mini-batch  3000: 0.158\n",
      "Loss after mini-batch  3500: 0.157\n",
      "Loss after mini-batch  4000: 0.155\n",
      "Loss after mini-batch  4500: 0.155\n",
      "Loss after mini-batch  5000: 0.155\n",
      "Loss after mini-batch  5500: 0.153\n",
      "Loss after mini-batch  6000: 0.152\n",
      "Average Val loss: 0.14278799031162634\n",
      "Loss after mini-batch   500: 0.131\n",
      "Loss after mini-batch  1000: 0.131\n",
      "Loss after mini-batch  1500: 0.131\n",
      "Loss after mini-batch  2000: 0.131\n",
      "Loss after mini-batch  2500: 0.128\n",
      "Loss after mini-batch  3000: 0.128\n",
      "Loss after mini-batch  3500: 0.129\n",
      "Loss after mini-batch  4000: 0.127\n",
      "Loss after mini-batch  4500: 0.128\n",
      "Loss after mini-batch  5000: 0.128\n",
      "Loss after mini-batch  5500: 0.127\n",
      "Loss after mini-batch  6000: 0.128\n",
      "Average Val loss: 0.1272954142910894\n",
      "Loss after mini-batch   500: 0.117\n",
      "Loss after mini-batch  1000: 0.113\n",
      "Loss after mini-batch  1500: 0.111\n",
      "Loss after mini-batch  2000: 0.112\n",
      "Loss after mini-batch  2500: 0.111\n",
      "Loss after mini-batch  3000: 0.110\n",
      "Loss after mini-batch  3500: 0.110\n",
      "Loss after mini-batch  4000: 0.110\n",
      "Loss after mini-batch  4500: 0.109\n",
      "Loss after mini-batch  5000: 0.108\n",
      "Loss after mini-batch  5500: 0.109\n",
      "Loss after mini-batch  6000: 0.109\n",
      "Average Val loss: 0.1223777391994372\n"
     ]
    }
   ],
   "source": [
    "stats = train(model, train_loader, val_loader, config)"
   ]
  },
  {
   "cell_type": "markdown",
   "id": "fabf2e23",
   "metadata": {},
   "source": [
    "![title](images/backprop_ball.png)\n",
    "![title](images/gradient_desc_3d.jpg)"
   ]
  },
  {
   "cell_type": "markdown",
   "id": "5da54a14",
   "metadata": {},
   "source": [
    " "
   ]
  },
  {
   "cell_type": "markdown",
   "id": "3eb4281c",
   "metadata": {},
   "source": [
    " "
   ]
  },
  {
   "cell_type": "markdown",
   "id": "ab7fbb15",
   "metadata": {},
   "source": [
    " "
   ]
  },
  {
   "cell_type": "markdown",
   "id": "f0f92837",
   "metadata": {},
   "source": [
    " "
   ]
  },
  {
   "cell_type": "markdown",
   "id": "40403efc",
   "metadata": {},
   "source": [
    " "
   ]
  },
  {
   "cell_type": "markdown",
   "id": "53ca0edd",
   "metadata": {},
   "source": [
    " "
   ]
  },
  {
   "cell_type": "markdown",
   "id": "b413af0b",
   "metadata": {},
   "source": [
    "$$ \n",
    "  \\Huge{w = w - \\alpha \\frac{\\partial L(w)}{\\partial w}}\n",
    "$$\n"
   ]
  },
  {
   "cell_type": "markdown",
   "id": "88e0321a",
   "metadata": {},
   "source": [
    "# Training stats"
   ]
  },
  {
   "cell_type": "code",
   "execution_count": 33,
   "id": "a120548c",
   "metadata": {},
   "outputs": [],
   "source": [
    "def show_stats(stats):\n",
    "    figure = plt.figure(figsize=(8, 5))\n",
    "    x_axis = range(1, len(stats['train_losses']) + 1)\n",
    "    plt.plot(x_axis, stats['train_losses'], label='training loss')\n",
    "    plt.plot(x_axis, stats['val_losses'], label='validation loss')\n",
    "    plt.legend()\n",
    "    plt.xlabel(\"training epoch\")\n",
    "    plt.ylabel(\"loss\")\n",
    "    plt.show()"
   ]
  },
  {
   "cell_type": "code",
   "execution_count": 34,
   "id": "42c37459",
   "metadata": {},
   "outputs": [
    {
     "data": {
      "image/png": "[encoded data removed]",
      "text/plain": [
       "<Figure size 800x500 with 1 Axes>"
      ]
     },
     "metadata": {},
     "output_type": "display_data"
    }
   ],
   "source": [
    "show_stats(stats)"
   ]
  },
  {
   "cell_type": "code",
   "execution_count": 24,
   "id": "2bd14900",
   "metadata": {
    "collapsed": true
   },
   "outputs": [
    {
     "data": {
      "image/png": "[encoded data removed]",
      "text/plain": [
       "<Figure size 1200x700 with 1 Axes>"
      ]
     },
     "metadata": {},
     "output_type": "display_data"
    }
   ],
   "source": [
    "stats_30 = np.load('stats_30.npy', allow_pickle=True).item()\n",
    "show_stats(stats_30)"
   ]
  },
  {
   "cell_type": "markdown",
   "id": "5ff8bac9",
   "metadata": {},
   "source": [
    "# Inference testing"
   ]
  },
  {
   "cell_type": "code",
   "execution_count": 35,
   "id": "92b0c4aa",
   "metadata": {},
   "outputs": [],
   "source": [
    "def test_model(model, data_loader):\n",
    "    total_correct = 0\n",
    "    mistakes = []\n",
    "    for i, data in enumerate(data_loader, 0):\n",
    "        # Get inputs\n",
    "        inputs, targets = data\n",
    "        \n",
    "        outputs = model(inputs)\n",
    "        \n",
    "        guesses = torch.argmax(outputs, dim=1)\n",
    "        num_correct = torch.sum(guesses == targets)\n",
    "        total_correct += num_correct\n",
    "        \n",
    "        if (num_correct != len(targets)): \n",
    "            mistake_mask = guesses != targets\n",
    "            mistake_inputs = inputs[mistake_mask]\n",
    "            mistake_targets = targets[mistake_mask]\n",
    "            mistake_outputs = guesses[mistake_mask]\n",
    "            mistakes.append((mistake_inputs, mistake_targets, mistake_outputs))\n",
    "\n",
    "    print(f\"correct guesses: {total_correct}/{len(data_loader.dataset)} ({total_correct / len(data_loader.dataset) * 100}%)\")\n",
    "    \n",
    "    return mistakes"
   ]
  },
  {
   "cell_type": "code",
   "execution_count": 36,
   "id": "f5354be2",
   "metadata": {},
   "outputs": [],
   "source": [
    "def plot_mistake(mistake):\n",
    "    inputs, targets, outputs = mistake\n",
    "    plt.imshow(inputs[0][0], cmap=\"gray\")\n",
    "    plt.title(f\"Guess: {outputs[0]}, Actual: {targets[0]}\")\n",
    "\n",
    "def plot_mistakes(mistakes):\n",
    "    if (len(mistakes) == 0):\n",
    "        return    \n",
    "        \n",
    "    figure = plt.figure(figsize=(12, 7))\n",
    "    cols, rows = 4, 2\n",
    "    \n",
    "    for i in range(1, cols * rows + 1):        \n",
    "        figure.add_subplot(rows, cols, i)\n",
    "        sample_idx = torch.randint(len(mistakes), size=(1,)).item()\n",
    "        \n",
    "        plot_mistake(mistakes[sample_idx])                \n",
    "        \n",
    "    plt.show()"
   ]
  },
  {
   "cell_type": "code",
   "execution_count": 37,
   "id": "502271a7",
   "metadata": {},
   "outputs": [
    {
     "name": "stdout",
     "output_type": "stream",
     "text": [
      "correct guesses: 4825/5000 (96.5%)\n"
     ]
    }
   ],
   "source": [
    "mistakes = test_model(model, test_loader)"
   ]
  },
  {
   "cell_type": "code",
   "execution_count": 39,
   "id": "eab244a3",
   "metadata": {},
   "outputs": [
    {
     "data": {
      "image/png": "[encoded data removed]",
      "text/plain": [
       "<Figure size 1200x700 with 8 Axes>"
      ]
     },
     "metadata": {},
     "output_type": "display_data"
    }
   ],
   "source": [
    "plot_mistakes(mistakes)"
   ]
  },
  {
   "cell_type": "code",
   "execution_count": null,
   "id": "cee37ea2",
   "metadata": {},
   "outputs": [],
   "source": []
  }
 ],
 "metadata": {
  "kernelspec": {
   "display_name": "Python 3 (ipykernel)",
   "language": "python",
   "name": "python3"
  },
  "language_info": {
   "codemirror_mode": {
    "name": "ipython",
    "version": 3
   },
   "file_extension": ".py",
   "mimetype": "text/x-python",
   "name": "python",
   "nbconvert_exporter": "python",
   "pygments_lexer": "ipython3",
   "version": "3.10.11"
  }
 },
 "nbformat": 4,
 "nbformat_minor": 5
}
