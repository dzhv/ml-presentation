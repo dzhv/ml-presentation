{
 "cells": [
  {
   "cell_type": "code",
   "execution_count": 23,
   "id": "7981f007",
   "metadata": {},
   "outputs": [],
   "source": [
    "import torch\n",
    "import torchvision\n",
    "from torchvision.datasets import MNIST\n",
    "from torchvision import transforms\n",
    "from torch.utils.data import random_split\n",
    "import numpy as np"
   ]
  },
  {
   "cell_type": "code",
   "execution_count": 16,
   "id": "6dc39cad",
   "metadata": {},
   "outputs": [
    {
     "data": {
      "text/html": [
       "<style>.container { width:90% !important; }</style>"
      ],
      "text/plain": [
       "<IPython.core.display.HTML object>"
      ]
     },
     "metadata": {},
     "output_type": "display_data"
    }
   ],
   "source": [
    "from IPython.display import display, HTML\n",
    "display(HTML(\"<style>.container { width:90% !important; }</style>\"))"
   ]
  },
  {
   "cell_type": "code",
   "execution_count": 5,
   "id": "566271e9",
   "metadata": {},
   "outputs": [],
   "source": [
    "import matplotlib.pyplot as plt\n",
    "plt.rcParams.update({'font.size': 14})"
   ]
  },
  {
   "cell_type": "markdown",
   "id": "538e8349",
   "metadata": {},
   "source": [
    "# DATA"
   ]
  },
  {
   "cell_type": "code",
   "execution_count": 6,
   "id": "cebef08c",
   "metadata": {},
   "outputs": [
    {
     "name": "stdout",
     "output_type": "stream",
     "text": [
      "training set len: 60000\n",
      "val set len: 5000\n",
      "test set len: 5000\n"
     ]
    }
   ],
   "source": [
    "train_images = MNIST(root='./data', train=True, download=True)\n",
    "train_data = MNIST(root='./data', train=True, download=True, transform=transforms.ToTensor())\n",
    "\n",
    "val_and_test_data = MNIST(root='./data', train=False, download=True, transform=transforms.ToTensor())\n",
    "val_data, test_data = random_split(val_and_test_data, [5000, 5000])\n",
    "\n",
    "print(f\"training set len: {len(train_data)}\")\n",
    "print(f\"val set len: {len(val_data)}\")\n",
    "print(f\"test set len: {len(test_data)}\")"
   ]
  },
  {
   "cell_type": "code",
   "execution_count": 7,
   "id": "ad1fe084",
   "metadata": {},
   "outputs": [],
   "source": [
    "from torch.utils.data import DataLoader\n",
    "\n",
    "train_loader = torch.utils.data.DataLoader(train_data, batch_size=10, shuffle=True, num_workers=1)\n",
    "val_loader = torch.utils.data.DataLoader(val_data, batch_size=10, shuffle=True, num_workers=1)\n",
    "test_loader = torch.utils.data.DataLoader(test_data, batch_size=1, shuffle=True, num_workers=1)"
   ]
  },
  {
   "cell_type": "code",
   "execution_count": 8,
   "id": "f1a52fcd",
   "metadata": {},
   "outputs": [],
   "source": [
    "def show_data_samples(data):\n",
    "    figure = plt.figure(figsize=(16, 8))\n",
    "    cols, rows = 4, 3\n",
    "    for i in range(1, cols * rows + 1):\n",
    "        sample_idx = torch.randint(len(data), size=(1,)).item()\n",
    "        img, label = data[sample_idx]\n",
    "        figure.add_subplot(rows, cols, i)    \n",
    "        plt.axis(\"off\")\n",
    "        plt.imshow(img, cmap=\"gray\")\n",
    "    plt.show()"
   ]
  },
  {
   "cell_type": "code",
   "execution_count": 18,
   "id": "8cad862c",
   "metadata": {},
   "outputs": [
    {
     "data": {
      "image/png": "[encoded data removed]",
      "text/plain": [
       "<Figure size 1600x800 with 12 Axes>"
      ]
     },
     "metadata": {},
     "output_type": "display_data"
    }
   ],
   "source": [
    "show_data_samples(train_images)"
   ]
  },
  {
   "cell_type": "markdown",
   "id": "9d755e89",
   "metadata": {},
   "source": [
    "# MODEL"
   ]
  },
  {
   "cell_type": "markdown",
   "id": "b5a421f9",
   "metadata": {},
   "source": [
    "$$\n",
    "  f(x) = 3x + 10  \n",
    "$$\n",
    "\n"
   ]
  },
  {
   "cell_type": "markdown",
   "id": "d26e4902",
   "metadata": {},
   "source": [
    "$$ \n",
    "  f(a, b) = 3a + 2b + 12 \n",
    "$$"
   ]
  },
  {
   "cell_type": "markdown",
   "id": "acb179ae",
   "metadata": {},
   "source": [
    "![title](images/function_picture.jpg)"
   ]
  },
  {
   "cell_type": "code",
   "execution_count": null,
   "id": "ae6c86a1",
   "metadata": {},
   "outputs": [],
   "source": []
  },
  {
   "cell_type": "markdown",
   "id": "ec189165",
   "metadata": {},
   "source": [
    "$$ \n",
    "  f(p_1, p_2, ..., p_{784}) = [ o_1, o_2, ..., o_{10} ]\n",
    "$$\n"
   ]
  },
  {
   "cell_type": "markdown",
   "id": "483f360d",
   "metadata": {},
   "source": [
    "![title](images/nn.png)"
   ]
  },
  {
   "cell_type": "code",
   "execution_count": null,
   "id": "ffc468f5",
   "metadata": {},
   "outputs": [],
   "source": [
    "from torch import nn\n",
    "\n",
    "class NeuralNetwork(nn.Module):\n",
    "    '''\n",
    "    Multilayer Perceptron.\n",
    "    '''\n",
    "    def __init__(self):\n",
    "        super().__init__()\n",
    "        self.layers = nn.Sequential(\n",
    "            # TODO: fill\n",
    "        )\n",
    "\n",
    "    def forward(self, x):\n",
    "        '''Forward pass'''\n",
    "        return self.layers(x)"
   ]
  },
  {
   "cell_type": "markdown",
   "id": "f4b50899",
   "metadata": {},
   "source": [
    "# TRAINING"
   ]
  },
  {
   "cell_type": "code",
   "execution_count": 11,
   "id": "7dadd52f",
   "metadata": {},
   "outputs": [],
   "source": [
    "model = NeuralNetwork()"
   ]
  },
  {
   "cell_type": "code",
   "execution_count": 31,
   "id": "f8036981",
   "metadata": {},
   "outputs": [],
   "source": [
    "config = {\n",
    "    # TODO    \n",
    "}"
   ]
  },
  {
   "cell_type": "code",
   "execution_count": 21,
   "id": "96d0281b",
   "metadata": {},
   "outputs": [
    {
     "ename": "SyntaxError",
     "evalue": "incomplete input (1037066502.py, line 3)",
     "output_type": "error",
     "traceback": [
      "\u001b[1;36m  Cell \u001b[1;32mIn[21], line 3\u001b[1;36m\u001b[0m\n\u001b[1;33m    \u001b[0m\n\u001b[1;37m    ^\u001b[0m\n\u001b[1;31mSyntaxError\u001b[0m\u001b[1;31m:\u001b[0m incomplete input\n"
     ]
    }
   ],
   "source": [
    "def train(model, train_data, config):\n",
    "    # TODO\n",
    "    "
   ]
  },
  {
   "cell_type": "code",
   "execution_count": 22,
   "id": "b9c36d47",
   "metadata": {},
   "outputs": [],
   "source": [
    "# TODO pictures explaining back propagation\n",
    "\n",
    "# pradzioj tiesiog model(inputs) kiekvienam inputui \n",
    "   # \"rodom pavyzdzius\"\n",
    "\n",
    "# tada apie loss\n",
    "    # norim modeli \"bausti\" uz kiekviena nepataikyma\n",
    "    # matematiškai tą baudą galim aprašyti irgi funkcija su įverčiu\n",
    "    \n",
    "# tada, kad iš baudų reikia mokytis\n",
    "    # apie back propagation"
   ]
  },
  {
   "cell_type": "markdown",
   "id": "fabf2e23",
   "metadata": {},
   "source": [
    "![title](images/backprop_ball.png)"
   ]
  },
  {
   "cell_type": "markdown",
   "id": "b413af0b",
   "metadata": {},
   "source": [
    "$$ \n",
    "  w = w - \\alpha \\frac{\\partial L(w)}{\\partial w}\n",
    "$$\n"
   ]
  },
  {
   "cell_type": "code",
   "execution_count": 18,
   "id": "fe9401d1",
   "metadata": {},
   "outputs": [],
   "source": [
    "# TODO start training"
   ]
  },
  {
   "cell_type": "markdown",
   "id": "88e0321a",
   "metadata": {},
   "source": [
    "# Training stats"
   ]
  },
  {
   "cell_type": "code",
   "execution_count": 22,
   "id": "a120548c",
   "metadata": {},
   "outputs": [],
   "source": [
    "def show_stats(stats):\n",
    "    figure = plt.figure(figsize=(12, 7))\n",
    "    x_axis = range(1, len(stats['train_losses']) + 1)\n",
    "    plt.plot(x_axis, stats['train_losses'], label='training loss')\n",
    "    plt.plot(x_axis, stats['val_losses'], label='validation loss')\n",
    "    plt.legend()\n",
    "    plt.xlabel(\"training epoch\")\n",
    "    plt.ylabel(\"loss\")\n",
    "    plt.show()"
   ]
  },
  {
   "cell_type": "code",
   "execution_count": 23,
   "id": "42c37459",
   "metadata": {},
   "outputs": [],
   "source": [
    "# TODO show model stats"
   ]
  },
  {
   "cell_type": "code",
   "execution_count": 24,
   "id": "2bd14900",
   "metadata": {},
   "outputs": [
    {
     "data": {
      "image/png": "[encoded data removed]",
      "text/plain": [
       "<Figure size 1200x700 with 1 Axes>"
      ]
     },
     "metadata": {},
     "output_type": "display_data"
    }
   ],
   "source": [
    "stats_30 = np.load('stats_30.npy', allow_pickle=True).item()\n",
    "show_stats(stats_30)"
   ]
  },
  {
   "cell_type": "markdown",
   "id": "5ff8bac9",
   "metadata": {},
   "source": [
    "# Inference testing"
   ]
  },
  {
   "cell_type": "code",
   "execution_count": 28,
   "id": "92b0c4aa",
   "metadata": {},
   "outputs": [],
   "source": [
    "def test_model(model, data_loader):\n",
    "    total_correct = 0\n",
    "    mistakes = []\n",
    "    for i, data in enumerate(data_loader, 0):\n",
    "        # Get inputs\n",
    "        inputs, targets = data\n",
    "        \n",
    "        outputs = model(inputs)\n",
    "        \n",
    "        guesses = torch.argmax(outputs, dim=1)\n",
    "        num_correct = torch.sum(guesses == targets)\n",
    "        total_correct += num_correct\n",
    "        \n",
    "        if (num_correct != len(targets)): \n",
    "            mistake_mask = guesses != targets\n",
    "            mistake_inputs = inputs[mistake_mask]\n",
    "            mistake_targets = targets[mistake_mask]\n",
    "            mistake_outputs = guesses[mistake_mask]\n",
    "            mistakes.append((mistake_inputs, mistake_targets, mistake_outputs))\n",
    "\n",
    "    print(f\"correct guesses: {total_correct}/{len(data_loader.dataset)} ({total_correct / len(data_loader.dataset) * 100}%)\")\n",
    "    \n",
    "    return mistakes"
   ]
  },
  {
   "cell_type": "code",
   "execution_count": 29,
   "id": "f5354be2",
   "metadata": {},
   "outputs": [],
   "source": [
    "def plot_mistake(mistake):\n",
    "    inputs, targets, outputs = mistake\n",
    "    plt.imshow(inputs[0][0], cmap=\"gray\")\n",
    "    plt.title(f\"Guess: {outputs[0]}, Actual: {targets[0]}\")\n",
    "\n",
    "def plot_mistakes(mistakes):\n",
    "    if (len(mistakes) == 0):\n",
    "        return    \n",
    "        \n",
    "    figure = plt.figure(figsize=(10, 8))\n",
    "    cols, rows = 4, 3    \n",
    "    \n",
    "    for i in range(1, cols * rows + 1):        \n",
    "        figure.add_subplot(rows, cols, i)\n",
    "        sample_idx = torch.randint(len(mistakes), size=(1,)).item()\n",
    "        \n",
    "        plot_mistake(mistakes[sample_idx])                \n",
    "        \n",
    "    plt.show()"
   ]
  },
  {
   "cell_type": "code",
   "execution_count": null,
   "id": "60792375",
   "metadata": {},
   "outputs": [],
   "source": []
  }
 ],
 "metadata": {
  "kernelspec": {
   "display_name": "Python 3 (ipykernel)",
   "language": "python",
   "name": "python3"
  },
  "language_info": {
   "codemirror_mode": {
    "name": "ipython",
    "version": 3
   },
   "file_extension": ".py",
   "mimetype": "text/x-python",
   "name": "python",
   "nbconvert_exporter": "python",
   "pygments_lexer": "ipython3",
   "version": "3.10.11"
  }
 },
 "nbformat": 4,
 "nbformat_minor": 5
}
