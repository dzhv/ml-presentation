{
 "cells": [
  {
   "cell_type": "code",
   "execution_count": 1,
   "id": "dc80a50f",
   "metadata": {},
   "outputs": [],
   "source": [
    "import torch\n",
    "import torchvision\n",
    "from torchvision.datasets import MNIST\n",
    "import matplotlib.pyplot as plt\n",
    "import numpy as np"
   ]
  },
  {
   "cell_type": "markdown",
   "id": "9f334966",
   "metadata": {},
   "source": [
    "# DATA"
   ]
  },
  {
   "cell_type": "code",
   "execution_count": 2,
   "id": "dbe99b70",
   "metadata": {},
   "outputs": [],
   "source": [
    "from torchvision import transforms"
   ]
  },
  {
   "cell_type": "code",
   "execution_count": 3,
   "id": "cca621b6",
   "metadata": {},
   "outputs": [
    {
     "name": "stdout",
     "output_type": "stream",
     "text": [
      "training set len: 60000\n",
      "val set len: 5000\n",
      "test set len: 5000\n"
     ]
    }
   ],
   "source": [
    "from torch.utils.data import random_split\n",
    "\n",
    "train_images = MNIST(root='./data', train=True, download=True)\n",
    "train_data = MNIST(root='./data', train=True, download=True, transform=transforms.ToTensor())\n",
    "\n",
    "val_and_test_data = MNIST(root='./data', train=False, download=True, transform=transforms.ToTensor())\n",
    "val_data, test_data = random_split(val_and_test_data, [5000, 5000])\n",
    "\n",
    "print(f\"training set len: {len(train_data)}\")\n",
    "print(f\"val set len: {len(val_data)}\")\n",
    "print(f\"test set len: {len(test_data)}\")"
   ]
  },
  {
   "cell_type": "code",
   "execution_count": 4,
   "id": "bb6bc9dd",
   "metadata": {},
   "outputs": [
    {
     "data": {
      "text/plain": [
       "0.08333333333333333"
      ]
     },
     "execution_count": 4,
     "metadata": {},
     "output_type": "execute_result"
    }
   ],
   "source": [
    "len(test_data) / len(train_data)"
   ]
  },
  {
   "cell_type": "code",
   "execution_count": 5,
   "id": "4f449f7d",
   "metadata": {},
   "outputs": [],
   "source": [
    "def show_data_samples(data):\n",
    "    figure = plt.figure(figsize=(8, 8))\n",
    "    cols, rows = 4, 3\n",
    "    for i in range(1, cols * rows + 1):\n",
    "        sample_idx = torch.randint(len(data), size=(1,)).item()\n",
    "        img, label = data[sample_idx]\n",
    "        figure.add_subplot(rows, cols, i)    \n",
    "        plt.axis(\"off\")\n",
    "        plt.imshow(img, cmap=\"gray\")\n",
    "    plt.show()"
   ]
  },
  {
   "cell_type": "code",
   "execution_count": 6,
   "id": "68a33ed0",
   "metadata": {},
   "outputs": [
    {
     "data": {
      "image/png": "[encoded data removed]",
      "text/plain": [
       "<Figure size 800x800 with 12 Axes>"
      ]
     },
     "metadata": {},
     "output_type": "display_data"
    }
   ],
   "source": [
    "show_data_samples(train_images)"
   ]
  },
  {
   "cell_type": "code",
   "execution_count": 7,
   "id": "38904cac",
   "metadata": {},
   "outputs": [],
   "source": [
    "from torch.utils.data import DataLoader\n",
    "\n",
    "train_loader = torch.utils.data.DataLoader(train_data, batch_size=10,\n",
    "                                            shuffle=True, num_workers=1)\n",
    "val_loader = torch.utils.data.DataLoader(val_data, batch_size=10,\n",
    "                                            shuffle=True, num_workers=1)\n",
    "test_loader = torch.utils.data.DataLoader(test_data, batch_size=1,\n",
    "                                            shuffle=True, num_workers=1)"
   ]
  },
  {
   "cell_type": "markdown",
   "id": "ba9c31b4",
   "metadata": {},
   "source": [
    "# MODEL"
   ]
  },
  {
   "cell_type": "code",
   "execution_count": 8,
   "id": "aa4998e7",
   "metadata": {},
   "outputs": [],
   "source": [
    "from torch import nn\n",
    "\n",
    "class NeuralNetwork(nn.Module):\n",
    "  '''\n",
    "    Multilayer Perceptron.\n",
    "  '''\n",
    "  def __init__(self):\n",
    "    super().__init__()\n",
    "    self.layers = nn.Sequential(\n",
    "      nn.Flatten(),\n",
    "      nn.Linear(28 * 28, 128),\n",
    "      nn.ReLU(),\n",
    "      nn.Linear(128, 64),\n",
    "      nn.ReLU(),\n",
    "      nn.Linear(64, 32),\n",
    "      nn.ReLU(),\n",
    "      nn.Linear(32, 10)\n",
    "    )\n",
    "\n",
    "\n",
    "  def forward(self, x):\n",
    "    '''Forward pass'''\n",
    "    return self.layers(x)"
   ]
  },
  {
   "cell_type": "markdown",
   "id": "84b061cd",
   "metadata": {},
   "source": [
    "# TRAINING"
   ]
  },
  {
   "cell_type": "code",
   "execution_count": 11,
   "id": "9833cc22",
   "metadata": {},
   "outputs": [],
   "source": [
    "def train(model, data, config):\n",
    "    loss_function = nn.CrossEntropyLoss()\n",
    "    optimizer = torch.optim.Adam(model.parameters(), lr=config[\"lr\"])\n",
    "    \n",
    "    data_train = data[\"train\"]\n",
    "    data_val = data[\"val\"]\n",
    "    \n",
    "    stats = {\n",
    "        'train_losses': [],\n",
    "        'val_losses': []\n",
    "    }\n",
    "    \n",
    "    for epoch in range(config[\"num_epochs\"]):\n",
    "        print(f\"Starting epoch {epoch+1}\")\n",
    "                    \n",
    "        train_loss = 0\n",
    "        for i, data in enumerate(data_train):\n",
    "\n",
    "            # Get inputs\n",
    "            inputs, targets = data\n",
    "  \n",
    "            # Zero the gradients\n",
    "            optimizer.zero_grad()\n",
    "  \n",
    "            # Perform forward pass\n",
    "            outputs = model(inputs)\n",
    "  \n",
    "            # Compute loss\n",
    "            loss = loss_function(outputs, targets)\n",
    "  \n",
    "            # Perform backward pass\n",
    "            loss.backward()\n",
    "  \n",
    "            # Perform optimization\n",
    "            optimizer.step()\n",
    "  \n",
    "            # Print statistics\n",
    "            train_loss += loss.item()\n",
    "            if i % 500 == 499:\n",
    "                print('Loss after mini-batch %5d: %.3f' % (i + 1, train_loss / i))    \n",
    "                \n",
    "        stats['train_losses'].append(train_loss / len(data_train))\n",
    "        \n",
    "        val_loss = 0\n",
    "        for i, data in enumerate(data_val):      \n",
    "            # Get inputs\n",
    "            inputs, targets = data\n",
    "  \n",
    "            outputs = model(inputs)\n",
    "            val_loss += loss_function(outputs, targets).item()\n",
    "\n",
    "        average_loss = val_loss / len(data_val)\n",
    "        stats['val_losses'].append(average_loss)\n",
    "        \n",
    "        print(f\"Average Val loss: {average_loss}\")\n",
    "            \n",
    "    print(\"FINISHED TRAINING\")\n",
    "    \n",
    "    return stats"
   ]
  },
  {
   "cell_type": "code",
   "execution_count": 16,
   "id": "eaae662f",
   "metadata": {},
   "outputs": [],
   "source": [
    "config = {\n",
    "    \"lr\": 1e-4,\n",
    "    \"num_epochs\": 20\n",
    "}\n",
    "data = { \n",
    "    \"train\": train_loader,\n",
    "    \"val\": val_loader\n",
    "}"
   ]
  },
  {
   "cell_type": "code",
   "execution_count": 20,
   "id": "ee9790e3",
   "metadata": {},
   "outputs": [],
   "source": [
    "model_20 = NeuralNetwork()"
   ]
  },
  {
   "cell_type": "code",
   "execution_count": 21,
   "id": "dc280933",
   "metadata": {
    "scrolled": true
   },
   "outputs": [
    {
     "name": "stdout",
     "output_type": "stream",
     "text": [
      "Starting epoch 1\n",
      "Loss after mini-batch   500: 1.911\n",
      "Loss after mini-batch  1000: 1.378\n",
      "Loss after mini-batch  1500: 1.106\n",
      "Loss after mini-batch  2000: 0.947\n",
      "Loss after mini-batch  2500: 0.852\n",
      "Loss after mini-batch  3000: 0.779\n",
      "Loss after mini-batch  3500: 0.722\n",
      "Loss after mini-batch  4000: 0.678\n",
      "Loss after mini-batch  4500: 0.643\n",
      "Loss after mini-batch  5000: 0.617\n",
      "Loss after mini-batch  5500: 0.590\n",
      "Loss after mini-batch  6000: 0.568\n",
      "Average Val loss: 0.3105071886368096\n",
      "Starting epoch 2\n",
      "Loss after mini-batch   500: 0.312\n",
      "Loss after mini-batch  1000: 0.314\n",
      "Loss after mini-batch  1500: 0.305\n",
      "Loss after mini-batch  2000: 0.297\n",
      "Loss after mini-batch  2500: 0.297\n",
      "Loss after mini-batch  3000: 0.294\n",
      "Loss after mini-batch  3500: 0.294\n",
      "Loss after mini-batch  4000: 0.292\n",
      "Loss after mini-batch  4500: 0.290\n",
      "Loss after mini-batch  5000: 0.288\n",
      "Loss after mini-batch  5500: 0.285\n",
      "Loss after mini-batch  6000: 0.283\n",
      "Average Val loss: 0.2324881752859801\n",
      "Starting epoch 3\n",
      "Loss after mini-batch   500: 0.256\n",
      "Loss after mini-batch  1000: 0.240\n",
      "Loss after mini-batch  1500: 0.236\n",
      "Loss after mini-batch  2000: 0.233\n",
      "Loss after mini-batch  2500: 0.234\n",
      "Loss after mini-batch  3000: 0.232\n",
      "Loss after mini-batch  3500: 0.231\n",
      "Loss after mini-batch  4000: 0.230\n",
      "Loss after mini-batch  4500: 0.229\n",
      "Loss after mini-batch  5000: 0.228\n",
      "Loss after mini-batch  5500: 0.228\n",
      "Loss after mini-batch  6000: 0.226\n",
      "Average Val loss: 0.20220672704000026\n",
      "Starting epoch 4\n",
      "Loss after mini-batch   500: 0.181\n",
      "Loss after mini-batch  1000: 0.191\n",
      "Loss after mini-batch  1500: 0.187\n",
      "Loss after mini-batch  2000: 0.189\n",
      "Loss after mini-batch  2500: 0.190\n",
      "Loss after mini-batch  3000: 0.191\n",
      "Loss after mini-batch  3500: 0.193\n",
      "Loss after mini-batch  4000: 0.192\n",
      "Loss after mini-batch  4500: 0.189\n",
      "Loss after mini-batch  5000: 0.189\n",
      "Loss after mini-batch  5500: 0.187\n",
      "Loss after mini-batch  6000: 0.186\n",
      "Average Val loss: 0.17346920624794437\n",
      "Starting epoch 5\n",
      "Loss after mini-batch   500: 0.170\n",
      "Loss after mini-batch  1000: 0.171\n",
      "Loss after mini-batch  1500: 0.168\n",
      "Loss after mini-batch  2000: 0.171\n",
      "Loss after mini-batch  2500: 0.167\n",
      "Loss after mini-batch  3000: 0.166\n",
      "Loss after mini-batch  3500: 0.163\n",
      "Loss after mini-batch  4000: 0.162\n",
      "Loss after mini-batch  4500: 0.159\n",
      "Loss after mini-batch  5000: 0.158\n",
      "Loss after mini-batch  5500: 0.157\n",
      "Loss after mini-batch  6000: 0.157\n",
      "Average Val loss: 0.14855549512850122\n",
      "Starting epoch 6\n",
      "Loss after mini-batch   500: 0.150\n",
      "Loss after mini-batch  1000: 0.142\n",
      "Loss after mini-batch  1500: 0.143\n",
      "Loss after mini-batch  2000: 0.141\n",
      "Loss after mini-batch  2500: 0.139\n",
      "Loss after mini-batch  3000: 0.139\n",
      "Loss after mini-batch  3500: 0.136\n",
      "Loss after mini-batch  4000: 0.136\n",
      "Loss after mini-batch  4500: 0.136\n",
      "Loss after mini-batch  5000: 0.135\n",
      "Loss after mini-batch  5500: 0.133\n",
      "Loss after mini-batch  6000: 0.135\n",
      "Average Val loss: 0.1374860047083348\n",
      "Starting epoch 7\n",
      "Loss after mini-batch   500: 0.113\n",
      "Loss after mini-batch  1000: 0.119\n",
      "Loss after mini-batch  1500: 0.124\n",
      "Loss after mini-batch  2000: 0.120\n",
      "Loss after mini-batch  2500: 0.120\n",
      "Loss after mini-batch  3000: 0.119\n",
      "Loss after mini-batch  3500: 0.119\n",
      "Loss after mini-batch  4000: 0.119\n",
      "Loss after mini-batch  4500: 0.119\n",
      "Loss after mini-batch  5000: 0.119\n",
      "Loss after mini-batch  5500: 0.118\n",
      "Loss after mini-batch  6000: 0.117\n",
      "Average Val loss: 0.12136847099778242\n",
      "Starting epoch 8\n",
      "Loss after mini-batch   500: 0.103\n",
      "Loss after mini-batch  1000: 0.109\n",
      "Loss after mini-batch  1500: 0.111\n",
      "Loss after mini-batch  2000: 0.109\n",
      "Loss after mini-batch  2500: 0.107\n",
      "Loss after mini-batch  3000: 0.106\n",
      "Loss after mini-batch  3500: 0.105\n",
      "Loss after mini-batch  4000: 0.104\n",
      "Loss after mini-batch  4500: 0.104\n",
      "Loss after mini-batch  5000: 0.104\n",
      "Loss after mini-batch  5500: 0.103\n",
      "Loss after mini-batch  6000: 0.103\n",
      "Average Val loss: 0.11025935021473561\n",
      "Starting epoch 9\n",
      "Loss after mini-batch   500: 0.091\n",
      "Loss after mini-batch  1000: 0.089\n",
      "Loss after mini-batch  1500: 0.087\n",
      "Loss after mini-batch  2000: 0.088\n",
      "Loss after mini-batch  2500: 0.087\n",
      "Loss after mini-batch  3000: 0.089\n",
      "Loss after mini-batch  3500: 0.090\n",
      "Loss after mini-batch  4000: 0.092\n",
      "Loss after mini-batch  4500: 0.091\n",
      "Loss after mini-batch  5000: 0.090\n",
      "Loss after mini-batch  5500: 0.091\n",
      "Loss after mini-batch  6000: 0.091\n",
      "Average Val loss: 0.10555181810987414\n",
      "Starting epoch 10\n",
      "Loss after mini-batch   500: 0.085\n",
      "Loss after mini-batch  1000: 0.079\n",
      "Loss after mini-batch  1500: 0.079\n",
      "Loss after mini-batch  2000: 0.080\n",
      "Loss after mini-batch  2500: 0.079\n",
      "Loss after mini-batch  3000: 0.081\n",
      "Loss after mini-batch  3500: 0.080\n",
      "Loss after mini-batch  4000: 0.080\n",
      "Loss after mini-batch  4500: 0.080\n",
      "Loss after mini-batch  5000: 0.080\n",
      "Loss after mini-batch  5500: 0.081\n",
      "Loss after mini-batch  6000: 0.080\n",
      "Average Val loss: 0.09786653315252625\n",
      "Starting epoch 11\n",
      "Loss after mini-batch   500: 0.068\n",
      "Loss after mini-batch  1000: 0.071\n",
      "Loss after mini-batch  1500: 0.072\n",
      "Loss after mini-batch  2000: 0.072\n",
      "Loss after mini-batch  2500: 0.072\n",
      "Loss after mini-batch  3000: 0.071\n",
      "Loss after mini-batch  3500: 0.072\n",
      "Loss after mini-batch  4000: 0.071\n",
      "Loss after mini-batch  4500: 0.071\n",
      "Loss after mini-batch  5000: 0.070\n",
      "Loss after mini-batch  5500: 0.071\n",
      "Loss after mini-batch  6000: 0.071\n",
      "Average Val loss: 0.09404110312316334\n",
      "Starting epoch 12\n",
      "Loss after mini-batch   500: 0.057\n",
      "Loss after mini-batch  1000: 0.060\n",
      "Loss after mini-batch  1500: 0.059\n",
      "Loss after mini-batch  2000: 0.058\n",
      "Loss after mini-batch  2500: 0.059\n",
      "Loss after mini-batch  3000: 0.060\n",
      "Loss after mini-batch  3500: 0.060\n",
      "Loss after mini-batch  4000: 0.060\n",
      "Loss after mini-batch  4500: 0.062\n",
      "Loss after mini-batch  5000: 0.063\n",
      "Loss after mini-batch  5500: 0.063\n",
      "Loss after mini-batch  6000: 0.063\n",
      "Average Val loss: 0.0912474645616603\n",
      "Starting epoch 13\n",
      "Loss after mini-batch   500: 0.054\n",
      "Loss after mini-batch  1000: 0.052\n",
      "Loss after mini-batch  1500: 0.050\n",
      "Loss after mini-batch  2000: 0.052\n",
      "Loss after mini-batch  2500: 0.053\n",
      "Loss after mini-batch  3000: 0.055\n",
      "Loss after mini-batch  3500: 0.054\n",
      "Loss after mini-batch  4000: 0.055\n",
      "Loss after mini-batch  4500: 0.056\n",
      "Loss after mini-batch  5000: 0.056\n",
      "Loss after mini-batch  5500: 0.056\n",
      "Loss after mini-batch  6000: 0.057\n",
      "Average Val loss: 0.09020817662024638\n",
      "Starting epoch 14\n",
      "Loss after mini-batch   500: 0.040\n",
      "Loss after mini-batch  1000: 0.046\n",
      "Loss after mini-batch  1500: 0.047\n",
      "Loss after mini-batch  2000: 0.048\n",
      "Loss after mini-batch  2500: 0.049\n",
      "Loss after mini-batch  3000: 0.050\n",
      "Loss after mini-batch  3500: 0.050\n",
      "Loss after mini-batch  4000: 0.049\n",
      "Loss after mini-batch  4500: 0.050\n",
      "Loss after mini-batch  5000: 0.050\n",
      "Loss after mini-batch  5500: 0.050\n",
      "Loss after mini-batch  6000: 0.050\n",
      "Average Val loss: 0.09634701467558625\n",
      "Starting epoch 15\n",
      "Loss after mini-batch   500: 0.039\n",
      "Loss after mini-batch  1000: 0.042\n",
      "Loss after mini-batch  1500: 0.044\n",
      "Loss after mini-batch  2000: 0.043\n",
      "Loss after mini-batch  2500: 0.043\n",
      "Loss after mini-batch  3000: 0.043\n",
      "Loss after mini-batch  3500: 0.045\n",
      "Loss after mini-batch  4000: 0.045\n",
      "Loss after mini-batch  4500: 0.044\n",
      "Loss after mini-batch  5000: 0.045\n",
      "Loss after mini-batch  5500: 0.045\n",
      "Loss after mini-batch  6000: 0.045\n",
      "Average Val loss: 0.08490191299567232\n",
      "Starting epoch 16\n",
      "Loss after mini-batch   500: 0.044\n",
      "Loss after mini-batch  1000: 0.041\n",
      "Loss after mini-batch  1500: 0.041\n",
      "Loss after mini-batch  2000: 0.041\n",
      "Loss after mini-batch  2500: 0.040\n",
      "Loss after mini-batch  3000: 0.040\n",
      "Loss after mini-batch  3500: 0.040\n",
      "Loss after mini-batch  4000: 0.040\n",
      "Loss after mini-batch  4500: 0.040\n",
      "Loss after mini-batch  5000: 0.041\n",
      "Loss after mini-batch  5500: 0.040\n",
      "Loss after mini-batch  6000: 0.040\n",
      "Average Val loss: 0.08239252891014621\n",
      "Starting epoch 17\n",
      "Loss after mini-batch   500: 0.030\n",
      "Loss after mini-batch  1000: 0.031\n",
      "Loss after mini-batch  1500: 0.031\n",
      "Loss after mini-batch  2000: 0.031\n",
      "Loss after mini-batch  2500: 0.033\n",
      "Loss after mini-batch  3000: 0.033\n",
      "Loss after mini-batch  3500: 0.034\n",
      "Loss after mini-batch  4000: 0.034\n",
      "Loss after mini-batch  4500: 0.035\n",
      "Loss after mini-batch  5000: 0.035\n",
      "Loss after mini-batch  5500: 0.035\n",
      "Loss after mini-batch  6000: 0.036\n",
      "Average Val loss: 0.08264844304519647\n",
      "Starting epoch 18\n",
      "Loss after mini-batch   500: 0.024\n",
      "Loss after mini-batch  1000: 0.028\n",
      "Loss after mini-batch  1500: 0.029\n"
     ]
    },
    {
     "name": "stdout",
     "output_type": "stream",
     "text": [
      "Loss after mini-batch  2000: 0.031\n",
      "Loss after mini-batch  2500: 0.032\n",
      "Loss after mini-batch  3000: 0.032\n",
      "Loss after mini-batch  3500: 0.033\n",
      "Loss after mini-batch  4000: 0.034\n",
      "Loss after mini-batch  4500: 0.033\n",
      "Loss after mini-batch  5000: 0.032\n",
      "Loss after mini-batch  5500: 0.032\n",
      "Loss after mini-batch  6000: 0.032\n",
      "Average Val loss: 0.08320214639859477\n",
      "Starting epoch 19\n",
      "Loss after mini-batch   500: 0.021\n",
      "Loss after mini-batch  1000: 0.023\n",
      "Loss after mini-batch  1500: 0.026\n",
      "Loss after mini-batch  2000: 0.028\n",
      "Loss after mini-batch  2500: 0.028\n",
      "Loss after mini-batch  3000: 0.029\n",
      "Loss after mini-batch  3500: 0.027\n",
      "Loss after mini-batch  4000: 0.028\n",
      "Loss after mini-batch  4500: 0.028\n",
      "Loss after mini-batch  5000: 0.029\n",
      "Loss after mini-batch  5500: 0.028\n",
      "Loss after mini-batch  6000: 0.029\n",
      "Average Val loss: 0.08045189043607388\n",
      "Starting epoch 20\n",
      "Loss after mini-batch   500: 0.021\n",
      "Loss after mini-batch  1000: 0.024\n",
      "Loss after mini-batch  1500: 0.025\n",
      "Loss after mini-batch  2000: 0.025\n",
      "Loss after mini-batch  2500: 0.026\n",
      "Loss after mini-batch  3000: 0.026\n",
      "Loss after mini-batch  3500: 0.026\n",
      "Loss after mini-batch  4000: 0.026\n",
      "Loss after mini-batch  4500: 0.026\n",
      "Loss after mini-batch  5000: 0.026\n",
      "Loss after mini-batch  5500: 0.026\n",
      "Loss after mini-batch  6000: 0.026\n",
      "Average Val loss: 0.08795054359055939\n",
      "FINISHED TRAINING\n"
     ]
    }
   ],
   "source": [
    "stats = train(model_20, data, config)"
   ]
  },
  {
   "cell_type": "code",
   "execution_count": 31,
   "id": "cfd3f256",
   "metadata": {},
   "outputs": [],
   "source": [
    "# SAVING MODEL\n",
    "torch.save(model_20, \"models/model_20.pt\")"
   ]
  },
  {
   "cell_type": "code",
   "execution_count": 32,
   "id": "cabd2f43",
   "metadata": {},
   "outputs": [],
   "source": [
    "# LOADING MODEL\n",
    "model_20_l = torch.load(\"models/model_20.pt\")"
   ]
  },
  {
   "cell_type": "code",
   "execution_count": 14,
   "id": "b1da13cb",
   "metadata": {
    "collapsed": true
   },
   "outputs": [
    {
     "name": "stdout",
     "output_type": "stream",
     "text": [
      "Starting epoch 1\n",
      "Loss after mini-batch   500: 1.904\n",
      "Loss after mini-batch  1000: 0.910\n",
      "Loss after mini-batch  1500: 0.615\n",
      "Loss after mini-batch  2000: 0.498\n",
      "Loss after mini-batch  2500: 0.446\n",
      "Loss after mini-batch  3000: 0.405\n",
      "Loss after mini-batch  3500: 0.375\n",
      "Loss after mini-batch  4000: 0.355\n",
      "Loss after mini-batch  4500: 0.351\n",
      "Loss after mini-batch  5000: 0.328\n",
      "Loss after mini-batch  5500: 0.310\n",
      "Loss after mini-batch  6000: 0.308\n",
      "Average Val loss: 0.28725993633270264\n",
      "Starting epoch 2\n",
      "Loss after mini-batch   500: 0.287\n",
      "Loss after mini-batch  1000: 0.275\n",
      "Loss after mini-batch  1500: 0.279\n",
      "Loss after mini-batch  2000: 0.272\n",
      "Loss after mini-batch  2500: 0.258\n",
      "Loss after mini-batch  3000: 0.264\n",
      "Loss after mini-batch  3500: 0.253\n",
      "Loss after mini-batch  4000: 0.247\n",
      "Loss after mini-batch  4500: 0.247\n",
      "Loss after mini-batch  5000: 0.252\n",
      "Loss after mini-batch  5500: 0.242\n",
      "Loss after mini-batch  6000: 0.236\n",
      "Average Val loss: 0.21383152902126312\n",
      "Starting epoch 3\n",
      "Loss after mini-batch   500: 0.209\n",
      "Loss after mini-batch  1000: 0.214\n",
      "Loss after mini-batch  1500: 0.214\n",
      "Loss after mini-batch  2000: 0.198\n",
      "Loss after mini-batch  2500: 0.216\n",
      "Loss after mini-batch  3000: 0.217\n",
      "Loss after mini-batch  3500: 0.205\n",
      "Loss after mini-batch  4000: 0.180\n",
      "Loss after mini-batch  4500: 0.189\n",
      "Loss after mini-batch  5000: 0.196\n",
      "Loss after mini-batch  5500: 0.179\n",
      "Loss after mini-batch  6000: 0.180\n",
      "Average Val loss: 0.17502567172050476\n",
      "Starting epoch 4\n",
      "Loss after mini-batch   500: 0.155\n",
      "Loss after mini-batch  1000: 0.161\n",
      "Loss after mini-batch  1500: 0.173\n",
      "Loss after mini-batch  2000: 0.175\n",
      "Loss after mini-batch  2500: 0.171\n",
      "Loss after mini-batch  3000: 0.152\n",
      "Loss after mini-batch  3500: 0.164\n",
      "Loss after mini-batch  4000: 0.152\n",
      "Loss after mini-batch  4500: 0.168\n",
      "Loss after mini-batch  5000: 0.161\n",
      "Loss after mini-batch  5500: 0.167\n",
      "Loss after mini-batch  6000: 0.150\n",
      "Average Val loss: 0.14669263362884521\n",
      "Starting epoch 5\n",
      "Loss after mini-batch   500: 0.140\n",
      "Loss after mini-batch  1000: 0.150\n",
      "Loss after mini-batch  1500: 0.146\n",
      "Loss after mini-batch  2000: 0.127\n",
      "Loss after mini-batch  2500: 0.129\n",
      "Loss after mini-batch  3000: 0.142\n",
      "Loss after mini-batch  3500: 0.121\n",
      "Loss after mini-batch  4000: 0.150\n",
      "Loss after mini-batch  4500: 0.146\n",
      "Loss after mini-batch  5000: 0.122\n",
      "Loss after mini-batch  5500: 0.127\n",
      "Loss after mini-batch  6000: 0.129\n",
      "Average Val loss: 0.134494811296463\n",
      "FINISHED TRAINING\n"
     ]
    }
   ],
   "source": [
    "train(model, data, config)"
   ]
  },
  {
   "cell_type": "code",
   "execution_count": 23,
   "id": "4f6e9952",
   "metadata": {},
   "outputs": [],
   "source": [
    "def show_stats(stats):\n",
    "    x_axis = range(1, len(stats['train_losses']) + 1)\n",
    "    plt.plot(x_axis, stats['train_losses'], label='train')\n",
    "    plt.plot(x_axis, stats['val_losses'], label='val')\n",
    "    plt.legend()\n",
    "    plt.xlabel(\"training epoch\")\n",
    "    plt.ylabel(\"loss\")\n",
    "    plt.show()"
   ]
  },
  {
   "cell_type": "code",
   "execution_count": 24,
   "id": "991d4084",
   "metadata": {},
   "outputs": [
    {
     "data": {
      "image/png": "[encoded data removed]",
      "text/plain": [
       "<Figure size 640x480 with 1 Axes>"
      ]
     },
     "metadata": {},
     "output_type": "display_data"
    }
   ],
   "source": [
    "show_stats(stats)"
   ]
  },
  {
   "cell_type": "code",
   "execution_count": 24,
   "id": "3c410f93",
   "metadata": {},
   "outputs": [
    {
     "data": {
      "image/png": "[encoded data removed]",
      "text/plain": [
       "<Figure size 640x480 with 1 Axes>"
      ]
     },
     "metadata": {},
     "output_type": "display_data"
    }
   ],
   "source": [
    "stats_30 = np.load('stats/stats_30.npy', allow_pickle=True).item()\n",
    "show_stats(stats_30)"
   ]
  },
  {
   "cell_type": "markdown",
   "id": "8ab9f3bc",
   "metadata": {},
   "source": [
    "# Inference testing"
   ]
  },
  {
   "cell_type": "code",
   "execution_count": 25,
   "id": "a34fa393",
   "metadata": {},
   "outputs": [],
   "source": [
    "def test_model(model, data_loader):\n",
    "    total_correct = 0\n",
    "    mistakes = []\n",
    "    for i, data in enumerate(data_loader, 0):\n",
    "        # Get inputs\n",
    "        inputs, targets = data\n",
    "        \n",
    "        outputs = model(inputs)\n",
    "        \n",
    "        guesses = torch.argmax(outputs, dim=1)\n",
    "        num_correct = torch.sum(guesses == targets)\n",
    "        total_correct += num_correct\n",
    "        \n",
    "        if (num_correct != len(targets)): \n",
    "            mistake_mask = guesses != targets\n",
    "            mistake_inputs = inputs[mistake_mask]\n",
    "            mistake_targets = targets[mistake_mask]\n",
    "            mistake_outputs = guesses[mistake_mask]\n",
    "            mistakes.append((mistake_inputs, mistake_targets, mistake_outputs))\n",
    "\n",
    "    print(f\"correct guesses: {total_correct}/{len(data_loader.dataset)} ({total_correct / len(data_loader.dataset) * 100}%)\")\n",
    "    \n",
    "    return mistakes"
   ]
  },
  {
   "cell_type": "code",
   "execution_count": 34,
   "id": "3b2600f2",
   "metadata": {},
   "outputs": [
    {
     "name": "stdout",
     "output_type": "stream",
     "text": [
      "correct guesses: 59669/60000 (99.44833374023438%)\n"
     ]
    }
   ],
   "source": [
    "mistakes = test_model(model_20_l, train_loader)"
   ]
  },
  {
   "cell_type": "code",
   "execution_count": 27,
   "id": "18a2cf53",
   "metadata": {},
   "outputs": [],
   "source": [
    "def plot_mistake(mistake):\n",
    "    inputs, targets, outputs = mistake\n",
    "    plt.imshow(inputs[0][0], cmap=\"gray\")\n",
    "    plt.title(f\"Guess: {outputs[0]}, Actual: {targets[0]}\")\n",
    "\n",
    "def plot_mistakes(mistakes):\n",
    "    if (len(mistakes) == 0):\n",
    "        return    \n",
    "        \n",
    "    figure = plt.figure(figsize=(10, 8))\n",
    "    cols, rows = 4, 3    \n",
    "    \n",
    "    for i in range(1, cols * rows + 1):        \n",
    "        figure.add_subplot(rows, cols, i)\n",
    "        sample_idx = torch.randint(len(mistakes), size=(1,)).item()\n",
    "        \n",
    "        plot_mistake(mistakes[sample_idx])                \n",
    "        \n",
    "    plt.show()"
   ]
  },
  {
   "cell_type": "code",
   "execution_count": 28,
   "id": "c7a858a2",
   "metadata": {},
   "outputs": [
    {
     "data": {
      "image/png": "[encoded data removed]",
      "text/plain": [
       "<Figure size 1000x800 with 12 Axes>"
      ]
     },
     "metadata": {},
     "output_type": "display_data"
    }
   ],
   "source": [
    "plot_mistakes(mistakes)"
   ]
  },
  {
   "cell_type": "code",
   "execution_count": null,
   "id": "eacbe513",
   "metadata": {},
   "outputs": [],
   "source": []
  }
 ],
 "metadata": {
  "kernelspec": {
   "display_name": "Python 3 (ipykernel)",
   "language": "python",
   "name": "python3"
  },
  "language_info": {
   "codemirror_mode": {
    "name": "ipython",
    "version": 3
   },
   "file_extension": ".py",
   "mimetype": "text/x-python",
   "name": "python",
   "nbconvert_exporter": "python",
   "pygments_lexer": "ipython3",
   "version": "3.10.11"
  }
 },
 "nbformat": 4,
 "nbformat_minor": 5
}
