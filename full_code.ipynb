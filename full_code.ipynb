{
 "cells": [
  {
   "cell_type": "code",
   "execution_count": 1,
   "id": "dc80a50f",
   "metadata": {},
   "outputs": [],
   "source": [
    "import torch\n",
    "import torchvision\n",
    "from torchvision.datasets import MNIST\n",
    "import matplotlib.pyplot as plt"
   ]
  },
  {
   "attachments": {},
   "cell_type": "markdown",
   "id": "9f334966",
   "metadata": {},
   "source": [
    "# DATA"
   ]
  },
  {
   "cell_type": "code",
   "execution_count": 2,
   "id": "dbe99b70",
   "metadata": {},
   "outputs": [],
   "source": [
    "from torchvision import transforms"
   ]
  },
  {
   "cell_type": "code",
   "execution_count": 3,
   "id": "cca621b6",
   "metadata": {},
   "outputs": [
    {
     "name": "stdout",
     "output_type": "stream",
     "text": [
      "training set len: 60000\n",
      "val set len: 5000\n",
      "test set len: 5000\n"
     ]
    }
   ],
   "source": [
    "from torch.utils.data import random_split\n",
    "\n",
    "train_images = MNIST(root='./data', train=True, download=True)\n",
    "train_data = MNIST(root='./data', train=True, download=True, transform=transforms.ToTensor())\n",
    "\n",
    "val_and_test_data = MNIST(root='./data', train=False, download=True, transform=transforms.ToTensor())\n",
    "val_data, test_data = random_split(val_and_test_data, [5000, 5000])\n",
    "\n",
    "print(f\"training set len: {len(train_data)}\")\n",
    "print(f\"val set len: {len(val_data)}\")\n",
    "print(f\"test set len: {len(test_data)}\")"
   ]
  },
  {
   "cell_type": "code",
   "execution_count": 5,
   "id": "bb6bc9dd",
   "metadata": {},
   "outputs": [
    {
     "data": {
      "text/plain": [
       "0.08333333333333333"
      ]
     },
     "execution_count": 5,
     "metadata": {},
     "output_type": "execute_result"
    }
   ],
   "source": [
    "len(test_data) / len(train_data)"
   ]
  },
  {
   "cell_type": "code",
   "execution_count": 6,
   "id": "4f449f7d",
   "metadata": {},
   "outputs": [],
   "source": [
    "def show_data_samples(data):\n",
    "    figure = plt.figure(figsize=(8, 8))\n",
    "    cols, rows = 4, 3\n",
    "    for i in range(1, cols * rows + 1):\n",
    "        sample_idx = torch.randint(len(data), size=(1,)).item()\n",
    "        img, label = data[sample_idx]\n",
    "        figure.add_subplot(rows, cols, i)    \n",
    "        plt.axis(\"off\")\n",
    "        plt.imshow(img, cmap=\"gray\")\n",
    "    plt.show()"
   ]
  },
  {
   "cell_type": "code",
   "execution_count": 18,
   "id": "68a33ed0",
   "metadata": {},
   "outputs": [
    {
     "data": {
      "image/png": "[encoded data removed]",
      "text/plain": [
       "<Figure size 800x800 with 12 Axes>"
      ]
     },
     "metadata": {},
     "output_type": "display_data"
    }
   ],
   "source": [
    "show_data_samples(train_images)"
   ]
  },
  {
   "cell_type": "code",
   "execution_count": 10,
   "id": "38904cac",
   "metadata": {},
   "outputs": [],
   "source": [
    "from torch.utils.data import DataLoader\n",
    "\n",
    "train_loader = torch.utils.data.DataLoader(train_data, batch_size=10,\n",
    "                                            shuffle=True, num_workers=1)\n",
    "val_loader = torch.utils.data.DataLoader(val_data, batch_size=10,\n",
    "                                            shuffle=True, num_workers=1)\n",
    "test_loader = torch.utils.data.DataLoader(test_data, batch_size=1,\n",
    "                                            shuffle=True, num_workers=1)"
   ]
  },
  {
   "attachments": {},
   "cell_type": "markdown",
   "id": "ba9c31b4",
   "metadata": {},
   "source": [
    "# MODEL"
   ]
  },
  {
   "cell_type": "code",
   "execution_count": 8,
   "id": "aa4998e7",
   "metadata": {},
   "outputs": [],
   "source": [
    "from torch import nn\n",
    "\n",
    "class NeuralNetwork(nn.Module):\n",
    "  '''\n",
    "    Multilayer Perceptron.\n",
    "  '''\n",
    "  def __init__(self):\n",
    "    super().__init__()\n",
    "    self.layers = nn.Sequential(\n",
    "      nn.Flatten(),\n",
    "      nn.Linear(28 * 28, 128),\n",
    "      nn.ReLU(),\n",
    "      nn.Linear(128, 64),\n",
    "      nn.ReLU(),\n",
    "      nn.Linear(64, 32),\n",
    "      nn.ReLU(),\n",
    "      nn.Linear(32, 10)\n",
    "    )\n",
    "\n",
    "\n",
    "  def forward(self, x):\n",
    "    '''Forward pass'''\n",
    "    return self.layers(x)"
   ]
  },
  {
   "attachments": {},
   "cell_type": "markdown",
   "id": "53e9ef80",
   "metadata": {},
   "source": [
    "# TRAINING #1"
   ]
  },
  {
   "cell_type": "code",
   "execution_count": null,
   "id": "4e6a8f16",
   "metadata": {},
   "outputs": [],
   "source": [
    "config = {\n",
    "    \"lr\": 1e-4,\n",
    "    \"num_epochs\": 5    \n",
    "}"
   ]
  },
  {
   "cell_type": "code",
   "execution_count": 9,
   "id": "83d849bf",
   "metadata": {},
   "outputs": [],
   "source": [
    "def train(model, train_data, config):\n",
    "    loss_function = nn.CrossEntropyLoss()\n",
    "    optimizer = torch.optim.Adam(model.parameters(), lr=config[\"lr\"])    \n",
    "        \n",
    "    for epoch in range(config[\"num_epochs\"]):\n",
    "        print(f\"Starting epoch {epoch+1}\")\n",
    "                    \n",
    "        current_loss = 0.0\n",
    "        \n",
    "        for i, data in enumerate(train_data):\n",
    "\n",
    "          # Get inputs\n",
    "          inputs, targets = data\n",
    "\n",
    "          # Zero the gradients\n",
    "          optimizer.zero_grad()\n",
    "\n",
    "          # Perform forward pass\n",
    "          outputs = model(inputs)\n",
    "\n",
    "          # Compute loss\n",
    "          loss = loss_function(outputs, targets)\n",
    "\n",
    "          # Perform backward pass\n",
    "          loss.backward()\n",
    "\n",
    "          # Perform optimization\n",
    "          optimizer.step()\n",
    "\n",
    "          # Print statistics\n",
    "          current_loss += loss.item()\n",
    "          if i % 500 == 499:\n",
    "              print('Loss after mini-batch %5d: %.3f' %\n",
    "                    (i + 1, current_loss / 500))\n",
    "              current_loss = 0.0\n"
   ]
  },
  {
   "cell_type": "code",
   "execution_count": 11,
   "id": "fba7e446",
   "metadata": {},
   "outputs": [],
   "source": [
    "model = NeuralNetwork()"
   ]
  },
  {
   "cell_type": "code",
   "execution_count": 160,
   "id": "9e0fd681",
   "metadata": {},
   "outputs": [
    {
     "name": "stdout",
     "output_type": "stream",
     "text": [
      "Starting epoch 1\n",
      "Loss after mini-batch   500: 0.215\n",
      "Loss after mini-batch  1000: 0.200\n",
      "Loss after mini-batch  1500: 0.206\n",
      "Loss after mini-batch  2000: 0.182\n",
      "Loss after mini-batch  2500: 0.193\n",
      "Loss after mini-batch  3000: 0.213\n",
      "Loss after mini-batch  3500: 0.190\n",
      "Loss after mini-batch  4000: 0.190\n",
      "Loss after mini-batch  4500: 0.206\n",
      "Loss after mini-batch  5000: 0.178\n",
      "Loss after mini-batch  5500: 0.168\n",
      "Loss after mini-batch  6000: 0.186\n",
      "Starting epoch 2\n",
      "Loss after mini-batch   500: 0.166\n",
      "Loss after mini-batch  1000: 0.177\n",
      "Loss after mini-batch  1500: 0.167\n",
      "Loss after mini-batch  2000: 0.162\n",
      "Loss after mini-batch  2500: 0.150\n",
      "Loss after mini-batch  3000: 0.146\n",
      "Loss after mini-batch  3500: 0.174\n",
      "Loss after mini-batch  4000: 0.160\n",
      "Loss after mini-batch  4500: 0.154\n",
      "Loss after mini-batch  5000: 0.153\n",
      "Loss after mini-batch  5500: 0.160\n",
      "Loss after mini-batch  6000: 0.149\n",
      "Starting epoch 3\n",
      "Loss after mini-batch   500: 0.144\n",
      "Loss after mini-batch  1000: 0.140\n",
      "Loss after mini-batch  1500: 0.145\n",
      "Loss after mini-batch  2000: 0.142\n",
      "Loss after mini-batch  2500: 0.138\n",
      "Loss after mini-batch  3000: 0.127\n",
      "Loss after mini-batch  3500: 0.128\n"
     ]
    },
    {
     "ename": "KeyboardInterrupt",
     "evalue": "",
     "output_type": "error",
     "traceback": [
      "\u001b[1;31m---------------------------------------------------------------------------\u001b[0m",
      "\u001b[1;31mKeyboardInterrupt\u001b[0m                         Traceback (most recent call last)",
      "Cell \u001b[1;32mIn[160], line 1\u001b[0m\n\u001b[1;32m----> 1\u001b[0m \u001b[43mtrain\u001b[49m\u001b[43m(\u001b[49m\u001b[43mmodel\u001b[49m\u001b[43m,\u001b[49m\u001b[43m \u001b[49m\u001b[43mdata\u001b[49m\u001b[43m,\u001b[49m\u001b[43m \u001b[49m\u001b[43mconfig\u001b[49m\u001b[43m)\u001b[49m\n",
      "Cell \u001b[1;32mIn[157], line 33\u001b[0m, in \u001b[0;36mtrain\u001b[1;34m(model, data, config)\u001b[0m\n\u001b[0;32m     30\u001b[0m loss\u001b[38;5;241m.\u001b[39mbackward()\n\u001b[0;32m     32\u001b[0m \u001b[38;5;66;03m# Perform optimization\u001b[39;00m\n\u001b[1;32m---> 33\u001b[0m \u001b[43moptimizer\u001b[49m\u001b[38;5;241;43m.\u001b[39;49m\u001b[43mstep\u001b[49m\u001b[43m(\u001b[49m\u001b[43m)\u001b[49m\n\u001b[0;32m     35\u001b[0m \u001b[38;5;66;03m# Print statistics\u001b[39;00m\n\u001b[0;32m     36\u001b[0m current_loss \u001b[38;5;241m+\u001b[39m\u001b[38;5;241m=\u001b[39m loss\u001b[38;5;241m.\u001b[39mitem()\n",
      "File \u001b[1;32mC:\\ProgramData\\miniconda3\\envs\\mnist\\lib\\site-packages\\torch\\optim\\optimizer.py:113\u001b[0m, in \u001b[0;36mOptimizer._hook_for_profile.<locals>.profile_hook_step.<locals>.wrapper\u001b[1;34m(*args, **kwargs)\u001b[0m\n\u001b[0;32m    111\u001b[0m profile_name \u001b[38;5;241m=\u001b[39m \u001b[38;5;124m\"\u001b[39m\u001b[38;5;124mOptimizer.step#\u001b[39m\u001b[38;5;132;01m{}\u001b[39;00m\u001b[38;5;124m.step\u001b[39m\u001b[38;5;124m\"\u001b[39m\u001b[38;5;241m.\u001b[39mformat(obj\u001b[38;5;241m.\u001b[39m\u001b[38;5;18m__class__\u001b[39m\u001b[38;5;241m.\u001b[39m\u001b[38;5;18m__name__\u001b[39m)\n\u001b[0;32m    112\u001b[0m \u001b[38;5;28;01mwith\u001b[39;00m torch\u001b[38;5;241m.\u001b[39mautograd\u001b[38;5;241m.\u001b[39mprofiler\u001b[38;5;241m.\u001b[39mrecord_function(profile_name):\n\u001b[1;32m--> 113\u001b[0m     \u001b[38;5;28;01mreturn\u001b[39;00m func(\u001b[38;5;241m*\u001b[39margs, \u001b[38;5;241m*\u001b[39m\u001b[38;5;241m*\u001b[39mkwargs)\n",
      "File \u001b[1;32mC:\\ProgramData\\miniconda3\\envs\\mnist\\lib\\site-packages\\torch\\autograd\\grad_mode.py:27\u001b[0m, in \u001b[0;36m_DecoratorContextManager.__call__.<locals>.decorate_context\u001b[1;34m(*args, **kwargs)\u001b[0m\n\u001b[0;32m     24\u001b[0m \u001b[38;5;129m@functools\u001b[39m\u001b[38;5;241m.\u001b[39mwraps(func)\n\u001b[0;32m     25\u001b[0m \u001b[38;5;28;01mdef\u001b[39;00m \u001b[38;5;21mdecorate_context\u001b[39m(\u001b[38;5;241m*\u001b[39margs, \u001b[38;5;241m*\u001b[39m\u001b[38;5;241m*\u001b[39mkwargs):\n\u001b[0;32m     26\u001b[0m     \u001b[38;5;28;01mwith\u001b[39;00m \u001b[38;5;28mself\u001b[39m\u001b[38;5;241m.\u001b[39mclone():\n\u001b[1;32m---> 27\u001b[0m         \u001b[38;5;28;01mreturn\u001b[39;00m func(\u001b[38;5;241m*\u001b[39margs, \u001b[38;5;241m*\u001b[39m\u001b[38;5;241m*\u001b[39mkwargs)\n",
      "File \u001b[1;32mC:\\ProgramData\\miniconda3\\envs\\mnist\\lib\\site-packages\\torch\\optim\\adam.py:157\u001b[0m, in \u001b[0;36mAdam.step\u001b[1;34m(self, closure)\u001b[0m\n\u001b[0;32m    153\u001b[0m                 max_exp_avg_sqs\u001b[38;5;241m.\u001b[39mappend(state[\u001b[38;5;124m'\u001b[39m\u001b[38;5;124mmax_exp_avg_sq\u001b[39m\u001b[38;5;124m'\u001b[39m])\n\u001b[0;32m    155\u001b[0m             state_steps\u001b[38;5;241m.\u001b[39mappend(state[\u001b[38;5;124m'\u001b[39m\u001b[38;5;124mstep\u001b[39m\u001b[38;5;124m'\u001b[39m])\n\u001b[1;32m--> 157\u001b[0m     \u001b[43madam\u001b[49m\u001b[43m(\u001b[49m\u001b[43mparams_with_grad\u001b[49m\u001b[43m,\u001b[49m\n\u001b[0;32m    158\u001b[0m \u001b[43m         \u001b[49m\u001b[43mgrads\u001b[49m\u001b[43m,\u001b[49m\n\u001b[0;32m    159\u001b[0m \u001b[43m         \u001b[49m\u001b[43mexp_avgs\u001b[49m\u001b[43m,\u001b[49m\n\u001b[0;32m    160\u001b[0m \u001b[43m         \u001b[49m\u001b[43mexp_avg_sqs\u001b[49m\u001b[43m,\u001b[49m\n\u001b[0;32m    161\u001b[0m \u001b[43m         \u001b[49m\u001b[43mmax_exp_avg_sqs\u001b[49m\u001b[43m,\u001b[49m\n\u001b[0;32m    162\u001b[0m \u001b[43m         \u001b[49m\u001b[43mstate_steps\u001b[49m\u001b[43m,\u001b[49m\n\u001b[0;32m    163\u001b[0m \u001b[43m         \u001b[49m\u001b[43mamsgrad\u001b[49m\u001b[38;5;241;43m=\u001b[39;49m\u001b[43mgroup\u001b[49m\u001b[43m[\u001b[49m\u001b[38;5;124;43m'\u001b[39;49m\u001b[38;5;124;43mamsgrad\u001b[39;49m\u001b[38;5;124;43m'\u001b[39;49m\u001b[43m]\u001b[49m\u001b[43m,\u001b[49m\n\u001b[0;32m    164\u001b[0m \u001b[43m         \u001b[49m\u001b[43mbeta1\u001b[49m\u001b[38;5;241;43m=\u001b[39;49m\u001b[43mbeta1\u001b[49m\u001b[43m,\u001b[49m\n\u001b[0;32m    165\u001b[0m \u001b[43m         \u001b[49m\u001b[43mbeta2\u001b[49m\u001b[38;5;241;43m=\u001b[39;49m\u001b[43mbeta2\u001b[49m\u001b[43m,\u001b[49m\n\u001b[0;32m    166\u001b[0m \u001b[43m         \u001b[49m\u001b[43mlr\u001b[49m\u001b[38;5;241;43m=\u001b[39;49m\u001b[43mgroup\u001b[49m\u001b[43m[\u001b[49m\u001b[38;5;124;43m'\u001b[39;49m\u001b[38;5;124;43mlr\u001b[39;49m\u001b[38;5;124;43m'\u001b[39;49m\u001b[43m]\u001b[49m\u001b[43m,\u001b[49m\n\u001b[0;32m    167\u001b[0m \u001b[43m         \u001b[49m\u001b[43mweight_decay\u001b[49m\u001b[38;5;241;43m=\u001b[39;49m\u001b[43mgroup\u001b[49m\u001b[43m[\u001b[49m\u001b[38;5;124;43m'\u001b[39;49m\u001b[38;5;124;43mweight_decay\u001b[39;49m\u001b[38;5;124;43m'\u001b[39;49m\u001b[43m]\u001b[49m\u001b[43m,\u001b[49m\n\u001b[0;32m    168\u001b[0m \u001b[43m         \u001b[49m\u001b[43meps\u001b[49m\u001b[38;5;241;43m=\u001b[39;49m\u001b[43mgroup\u001b[49m\u001b[43m[\u001b[49m\u001b[38;5;124;43m'\u001b[39;49m\u001b[38;5;124;43meps\u001b[39;49m\u001b[38;5;124;43m'\u001b[39;49m\u001b[43m]\u001b[49m\u001b[43m,\u001b[49m\n\u001b[0;32m    169\u001b[0m \u001b[43m         \u001b[49m\u001b[43mmaximize\u001b[49m\u001b[38;5;241;43m=\u001b[39;49m\u001b[43mgroup\u001b[49m\u001b[43m[\u001b[49m\u001b[38;5;124;43m'\u001b[39;49m\u001b[38;5;124;43mmaximize\u001b[39;49m\u001b[38;5;124;43m'\u001b[39;49m\u001b[43m]\u001b[49m\u001b[43m,\u001b[49m\n\u001b[0;32m    170\u001b[0m \u001b[43m         \u001b[49m\u001b[43mforeach\u001b[49m\u001b[38;5;241;43m=\u001b[39;49m\u001b[43mgroup\u001b[49m\u001b[43m[\u001b[49m\u001b[38;5;124;43m'\u001b[39;49m\u001b[38;5;124;43mforeach\u001b[39;49m\u001b[38;5;124;43m'\u001b[39;49m\u001b[43m]\u001b[49m\u001b[43m,\u001b[49m\n\u001b[0;32m    171\u001b[0m \u001b[43m         \u001b[49m\u001b[43mcapturable\u001b[49m\u001b[38;5;241;43m=\u001b[39;49m\u001b[43mgroup\u001b[49m\u001b[43m[\u001b[49m\u001b[38;5;124;43m'\u001b[39;49m\u001b[38;5;124;43mcapturable\u001b[39;49m\u001b[38;5;124;43m'\u001b[39;49m\u001b[43m]\u001b[49m\u001b[43m)\u001b[49m\n\u001b[0;32m    173\u001b[0m \u001b[38;5;28;01mreturn\u001b[39;00m loss\n",
      "File \u001b[1;32mC:\\ProgramData\\miniconda3\\envs\\mnist\\lib\\site-packages\\torch\\optim\\adam.py:213\u001b[0m, in \u001b[0;36madam\u001b[1;34m(params, grads, exp_avgs, exp_avg_sqs, max_exp_avg_sqs, state_steps, foreach, capturable, amsgrad, beta1, beta2, lr, weight_decay, eps, maximize)\u001b[0m\n\u001b[0;32m    210\u001b[0m \u001b[38;5;28;01melse\u001b[39;00m:\n\u001b[0;32m    211\u001b[0m     func \u001b[38;5;241m=\u001b[39m _single_tensor_adam\n\u001b[1;32m--> 213\u001b[0m \u001b[43mfunc\u001b[49m\u001b[43m(\u001b[49m\u001b[43mparams\u001b[49m\u001b[43m,\u001b[49m\n\u001b[0;32m    214\u001b[0m \u001b[43m     \u001b[49m\u001b[43mgrads\u001b[49m\u001b[43m,\u001b[49m\n\u001b[0;32m    215\u001b[0m \u001b[43m     \u001b[49m\u001b[43mexp_avgs\u001b[49m\u001b[43m,\u001b[49m\n\u001b[0;32m    216\u001b[0m \u001b[43m     \u001b[49m\u001b[43mexp_avg_sqs\u001b[49m\u001b[43m,\u001b[49m\n\u001b[0;32m    217\u001b[0m \u001b[43m     \u001b[49m\u001b[43mmax_exp_avg_sqs\u001b[49m\u001b[43m,\u001b[49m\n\u001b[0;32m    218\u001b[0m \u001b[43m     \u001b[49m\u001b[43mstate_steps\u001b[49m\u001b[43m,\u001b[49m\n\u001b[0;32m    219\u001b[0m \u001b[43m     \u001b[49m\u001b[43mamsgrad\u001b[49m\u001b[38;5;241;43m=\u001b[39;49m\u001b[43mamsgrad\u001b[49m\u001b[43m,\u001b[49m\n\u001b[0;32m    220\u001b[0m \u001b[43m     \u001b[49m\u001b[43mbeta1\u001b[49m\u001b[38;5;241;43m=\u001b[39;49m\u001b[43mbeta1\u001b[49m\u001b[43m,\u001b[49m\n\u001b[0;32m    221\u001b[0m \u001b[43m     \u001b[49m\u001b[43mbeta2\u001b[49m\u001b[38;5;241;43m=\u001b[39;49m\u001b[43mbeta2\u001b[49m\u001b[43m,\u001b[49m\n\u001b[0;32m    222\u001b[0m \u001b[43m     \u001b[49m\u001b[43mlr\u001b[49m\u001b[38;5;241;43m=\u001b[39;49m\u001b[43mlr\u001b[49m\u001b[43m,\u001b[49m\n\u001b[0;32m    223\u001b[0m \u001b[43m     \u001b[49m\u001b[43mweight_decay\u001b[49m\u001b[38;5;241;43m=\u001b[39;49m\u001b[43mweight_decay\u001b[49m\u001b[43m,\u001b[49m\n\u001b[0;32m    224\u001b[0m \u001b[43m     \u001b[49m\u001b[43meps\u001b[49m\u001b[38;5;241;43m=\u001b[39;49m\u001b[43meps\u001b[49m\u001b[43m,\u001b[49m\n\u001b[0;32m    225\u001b[0m \u001b[43m     \u001b[49m\u001b[43mmaximize\u001b[49m\u001b[38;5;241;43m=\u001b[39;49m\u001b[43mmaximize\u001b[49m\u001b[43m,\u001b[49m\n\u001b[0;32m    226\u001b[0m \u001b[43m     \u001b[49m\u001b[43mcapturable\u001b[49m\u001b[38;5;241;43m=\u001b[39;49m\u001b[43mcapturable\u001b[49m\u001b[43m)\u001b[49m\n",
      "File \u001b[1;32mC:\\ProgramData\\miniconda3\\envs\\mnist\\lib\\site-packages\\torch\\optim\\adam.py:305\u001b[0m, in \u001b[0;36m_single_tensor_adam\u001b[1;34m(params, grads, exp_avgs, exp_avg_sqs, max_exp_avg_sqs, state_steps, amsgrad, beta1, beta2, lr, weight_decay, eps, maximize, capturable)\u001b[0m\n\u001b[0;32m    303\u001b[0m     denom \u001b[38;5;241m=\u001b[39m (max_exp_avg_sqs[i]\u001b[38;5;241m.\u001b[39msqrt() \u001b[38;5;241m/\u001b[39m bias_correction2_sqrt)\u001b[38;5;241m.\u001b[39madd_(eps)\n\u001b[0;32m    304\u001b[0m \u001b[38;5;28;01melse\u001b[39;00m:\n\u001b[1;32m--> 305\u001b[0m     denom \u001b[38;5;241m=\u001b[39m \u001b[43m(\u001b[49m\u001b[43mexp_avg_sq\u001b[49m\u001b[38;5;241;43m.\u001b[39;49m\u001b[43msqrt\u001b[49m\u001b[43m(\u001b[49m\u001b[43m)\u001b[49m\u001b[43m \u001b[49m\u001b[38;5;241;43m/\u001b[39;49m\u001b[43m \u001b[49m\u001b[43mbias_correction2_sqrt\u001b[49m\u001b[43m)\u001b[49m\u001b[38;5;241;43m.\u001b[39;49m\u001b[43madd_\u001b[49m\u001b[43m(\u001b[49m\u001b[43meps\u001b[49m\u001b[43m)\u001b[49m\n\u001b[0;32m    307\u001b[0m param\u001b[38;5;241m.\u001b[39maddcdiv_(exp_avg, denom, value\u001b[38;5;241m=\u001b[39m\u001b[38;5;241m-\u001b[39mstep_size)\n",
      "\u001b[1;31mKeyboardInterrupt\u001b[0m: "
     ]
    }
   ],
   "source": [
    "train(model, data, config)"
   ]
  },
  {
   "attachments": {},
   "cell_type": "markdown",
   "id": "84b061cd",
   "metadata": {},
   "source": [
    "# TRAINING #2"
   ]
  },
  {
   "cell_type": "code",
   "execution_count": 164,
   "id": "9833cc22",
   "metadata": {},
   "outputs": [],
   "source": [
    "def train(model, data, config):\n",
    "    loss_function = nn.CrossEntropyLoss()\n",
    "    optimizer = torch.optim.Adam(model.parameters(), lr=config[\"lr\"])\n",
    "    \n",
    "    data_train = data[\"train\"]\n",
    "    data_val = data[\"val\"]\n",
    "    \n",
    "    stats = {\n",
    "        'train_losses': [],\n",
    "        'val_losses': []\n",
    "    }\n",
    "    \n",
    "    for epoch in range(config[\"num_epochs\"]):\n",
    "        print(f\"Starting epoch {epoch+1}\")\n",
    "                    \n",
    "        train_loss = 0\n",
    "        for i, data in enumerate(data_train):\n",
    "\n",
    "            # Get inputs\n",
    "            inputs, targets = data\n",
    "  \n",
    "            # Zero the gradients\n",
    "            optimizer.zero_grad()\n",
    "  \n",
    "            # Perform forward pass\n",
    "            outputs = model(inputs)\n",
    "  \n",
    "            # Compute loss\n",
    "            loss = loss_function(outputs, targets)\n",
    "  \n",
    "            # Perform backward pass\n",
    "            loss.backward()\n",
    "  \n",
    "            # Perform optimization\n",
    "            optimizer.step()\n",
    "  \n",
    "            # Print statistics\n",
    "            train_loss += loss.item()\n",
    "            if i % 500 == 499:\n",
    "                print('Loss after mini-batch %5d: %.3f' % (i + 1, train_loss / i))    \n",
    "                \n",
    "        stats['train_losses'].append(train_loss / len(data_train))\n",
    "        \n",
    "        val_loss = 0\n",
    "        for i, data in enumerate(data_val):      \n",
    "            # Get inputs\n",
    "            inputs, targets = data\n",
    "  \n",
    "            outputs = model(inputs)\n",
    "            val_loss += loss_function(outputs, targets).item()\n",
    "\n",
    "        average_loss = val_loss / len(data_val)\n",
    "        stats['val_losses'].append(average_loss)\n",
    "        \n",
    "        print(f\"Average Val loss: {average_loss}\")\n",
    "            \n",
    "    print(\"FINISHED TRAINING\")\n",
    "    \n",
    "    return stats"
   ]
  },
  {
   "cell_type": "code",
   "execution_count": 191,
   "id": "eaae662f",
   "metadata": {},
   "outputs": [],
   "source": [
    "config = {\n",
    "    \"lr\": 1e-4,\n",
    "    \"num_epochs\": 30\n",
    "}\n",
    "data = { \n",
    "    \"train\": train_loader,\n",
    "    \"val\": val_loader\n",
    "}"
   ]
  },
  {
   "cell_type": "code",
   "execution_count": 193,
   "id": "6df2aa77",
   "metadata": {},
   "outputs": [],
   "source": [
    "model_30 = NeuralNetwork()"
   ]
  },
  {
   "cell_type": "code",
   "execution_count": 194,
   "id": "dc280933",
   "metadata": {
    "scrolled": true
   },
   "outputs": [
    {
     "name": "stdout",
     "output_type": "stream",
     "text": [
      "Starting epoch 1\n",
      "Loss after mini-batch   500: 1.794\n",
      "Loss after mini-batch  1000: 1.337\n",
      "Loss after mini-batch  1500: 1.108\n",
      "Loss after mini-batch  2000: 0.960\n",
      "Loss after mini-batch  2500: 0.865\n",
      "Loss after mini-batch  3000: 0.792\n",
      "Loss after mini-batch  3500: 0.736\n",
      "Loss after mini-batch  4000: 0.692\n",
      "Loss after mini-batch  4500: 0.655\n",
      "Loss after mini-batch  5000: 0.626\n",
      "Loss after mini-batch  5500: 0.600\n",
      "Loss after mini-batch  6000: 0.578\n",
      "Average Val loss: 0.3019757799953222\n",
      "Starting epoch 2\n",
      "Loss after mini-batch   500: 0.308\n",
      "Loss after mini-batch  1000: 0.304\n",
      "Loss after mini-batch  1500: 0.298\n",
      "Loss after mini-batch  2000: 0.293\n",
      "Loss after mini-batch  2500: 0.295\n",
      "Loss after mini-batch  3000: 0.290\n",
      "Loss after mini-batch  3500: 0.289\n",
      "Loss after mini-batch  4000: 0.284\n",
      "Loss after mini-batch  4500: 0.280\n",
      "Loss after mini-batch  5000: 0.277\n",
      "Loss after mini-batch  5500: 0.274\n",
      "Loss after mini-batch  6000: 0.272\n",
      "Average Val loss: 0.22597031081002206\n",
      "Starting epoch 3\n",
      "Loss after mini-batch   500: 0.231\n",
      "Loss after mini-batch  1000: 0.225\n",
      "Loss after mini-batch  1500: 0.220\n",
      "Loss after mini-batch  2000: 0.220\n",
      "Loss after mini-batch  2500: 0.219\n",
      "Loss after mini-batch  3000: 0.220\n",
      "Loss after mini-batch  3500: 0.220\n",
      "Loss after mini-batch  4000: 0.221\n",
      "Loss after mini-batch  4500: 0.218\n",
      "Loss after mini-batch  5000: 0.214\n",
      "Loss after mini-batch  5500: 0.212\n",
      "Loss after mini-batch  6000: 0.211\n",
      "Average Val loss: 0.1883640923211351\n",
      "Starting epoch 4\n",
      "Loss after mini-batch   500: 0.187\n",
      "Loss after mini-batch  1000: 0.172\n",
      "Loss after mini-batch  1500: 0.170\n",
      "Loss after mini-batch  2000: 0.170\n",
      "Loss after mini-batch  2500: 0.171\n",
      "Loss after mini-batch  3000: 0.174\n",
      "Loss after mini-batch  3500: 0.175\n",
      "Loss after mini-batch  4000: 0.173\n",
      "Loss after mini-batch  4500: 0.173\n",
      "Loss after mini-batch  5000: 0.172\n",
      "Loss after mini-batch  5500: 0.172\n",
      "Loss after mini-batch  6000: 0.172\n",
      "Average Val loss: 0.15316249597724527\n",
      "Starting epoch 5\n",
      "Loss after mini-batch   500: 0.153\n",
      "Loss after mini-batch  1000: 0.148\n",
      "Loss after mini-batch  1500: 0.146\n",
      "Loss after mini-batch  2000: 0.146\n",
      "Loss after mini-batch  2500: 0.150\n",
      "Loss after mini-batch  3000: 0.150\n",
      "Loss after mini-batch  3500: 0.148\n",
      "Loss after mini-batch  4000: 0.146\n",
      "Loss after mini-batch  4500: 0.145\n",
      "Loss after mini-batch  5000: 0.144\n",
      "Loss after mini-batch  5500: 0.144\n",
      "Loss after mini-batch  6000: 0.144\n",
      "Average Val loss: 0.13594186577014625\n",
      "Starting epoch 6\n",
      "Loss after mini-batch   500: 0.119\n",
      "Loss after mini-batch  1000: 0.125\n",
      "Loss after mini-batch  1500: 0.125\n",
      "Loss after mini-batch  2000: 0.124\n",
      "Loss after mini-batch  2500: 0.127\n",
      "Loss after mini-batch  3000: 0.125\n",
      "Loss after mini-batch  3500: 0.125\n",
      "Loss after mini-batch  4000: 0.125\n",
      "Loss after mini-batch  4500: 0.124\n",
      "Loss after mini-batch  5000: 0.123\n",
      "Loss after mini-batch  5500: 0.122\n",
      "Loss after mini-batch  6000: 0.122\n",
      "Average Val loss: 0.12375059807603248\n",
      "Starting epoch 7\n",
      "Loss after mini-batch   500: 0.107\n",
      "Loss after mini-batch  1000: 0.108\n",
      "Loss after mini-batch  1500: 0.107\n",
      "Loss after mini-batch  2000: 0.108\n",
      "Loss after mini-batch  2500: 0.108\n",
      "Loss after mini-batch  3000: 0.107\n",
      "Loss after mini-batch  3500: 0.107\n",
      "Loss after mini-batch  4000: 0.105\n",
      "Loss after mini-batch  4500: 0.104\n",
      "Loss after mini-batch  5000: 0.104\n",
      "Loss after mini-batch  5500: 0.105\n",
      "Loss after mini-batch  6000: 0.105\n",
      "Average Val loss: 0.10726962240785361\n",
      "Starting epoch 8\n",
      "Loss after mini-batch   500: 0.094\n",
      "Loss after mini-batch  1000: 0.088\n",
      "Loss after mini-batch  1500: 0.090\n",
      "Loss after mini-batch  2000: 0.093\n",
      "Loss after mini-batch  2500: 0.095\n",
      "Loss after mini-batch  3000: 0.094\n",
      "Loss after mini-batch  3500: 0.094\n",
      "Loss after mini-batch  4000: 0.093\n",
      "Loss after mini-batch  4500: 0.094\n",
      "Loss after mini-batch  5000: 0.093\n",
      "Loss after mini-batch  5500: 0.093\n",
      "Loss after mini-batch  6000: 0.092\n",
      "Average Val loss: 0.0999015292659169\n",
      "Starting epoch 9\n",
      "Loss after mini-batch   500: 0.082\n",
      "Loss after mini-batch  1000: 0.078\n",
      "Loss after mini-batch  1500: 0.078\n",
      "Loss after mini-batch  2000: 0.079\n",
      "Loss after mini-batch  2500: 0.079\n",
      "Loss after mini-batch  3000: 0.081\n",
      "Loss after mini-batch  3500: 0.081\n",
      "Loss after mini-batch  4000: 0.081\n",
      "Loss after mini-batch  4500: 0.083\n",
      "Loss after mini-batch  5000: 0.083\n",
      "Loss after mini-batch  5500: 0.082\n",
      "Loss after mini-batch  6000: 0.082\n",
      "Average Val loss: 0.09335419419268146\n",
      "Starting epoch 10\n",
      "Loss after mini-batch   500: 0.065\n",
      "Loss after mini-batch  1000: 0.072\n",
      "Loss after mini-batch  1500: 0.071\n",
      "Loss after mini-batch  2000: 0.072\n",
      "Loss after mini-batch  2500: 0.073\n",
      "Loss after mini-batch  3000: 0.073\n",
      "Loss after mini-batch  3500: 0.073\n",
      "Loss after mini-batch  4000: 0.073\n",
      "Loss after mini-batch  4500: 0.074\n",
      "Loss after mini-batch  5000: 0.073\n",
      "Loss after mini-batch  5500: 0.073\n",
      "Loss after mini-batch  6000: 0.073\n",
      "Average Val loss: 0.0980802046287572\n",
      "Starting epoch 11\n",
      "Loss after mini-batch   500: 0.072\n",
      "Loss after mini-batch  1000: 0.063\n",
      "Loss after mini-batch  1500: 0.065\n",
      "Loss after mini-batch  2000: 0.065\n",
      "Loss after mini-batch  2500: 0.065\n",
      "Loss after mini-batch  3000: 0.066\n",
      "Loss after mini-batch  3500: 0.065\n",
      "Loss after mini-batch  4000: 0.066\n",
      "Loss after mini-batch  4500: 0.065\n",
      "Loss after mini-batch  5000: 0.066\n",
      "Loss after mini-batch  5500: 0.066\n",
      "Loss after mini-batch  6000: 0.065\n",
      "Average Val loss: 0.0890532281671185\n",
      "Starting epoch 12\n",
      "Loss after mini-batch   500: 0.061\n",
      "Loss after mini-batch  1000: 0.056\n",
      "Loss after mini-batch  1500: 0.058\n",
      "Loss after mini-batch  2000: 0.058\n",
      "Loss after mini-batch  2500: 0.058\n",
      "Loss after mini-batch  3000: 0.058\n",
      "Loss after mini-batch  3500: 0.058\n",
      "Loss after mini-batch  4000: 0.059\n",
      "Loss after mini-batch  4500: 0.060\n",
      "Loss after mini-batch  5000: 0.060\n",
      "Loss after mini-batch  5500: 0.059\n",
      "Loss after mini-batch  6000: 0.059\n",
      "Average Val loss: 0.08691047179681481\n",
      "Starting epoch 13\n",
      "Loss after mini-batch   500: 0.052\n",
      "Loss after mini-batch  1000: 0.051\n",
      "Loss after mini-batch  1500: 0.052\n",
      "Loss after mini-batch  2000: 0.053\n",
      "Loss after mini-batch  2500: 0.052\n",
      "Loss after mini-batch  3000: 0.052\n",
      "Loss after mini-batch  3500: 0.052\n",
      "Loss after mini-batch  4000: 0.052\n",
      "Loss after mini-batch  4500: 0.053\n",
      "Loss after mini-batch  5000: 0.052\n",
      "Loss after mini-batch  5500: 0.053\n",
      "Loss after mini-batch  6000: 0.053\n",
      "Average Val loss: 0.08236057090295071\n",
      "Starting epoch 14\n",
      "Loss after mini-batch   500: 0.036\n",
      "Loss after mini-batch  1000: 0.041\n",
      "Loss after mini-batch  1500: 0.045\n",
      "Loss after mini-batch  2000: 0.045\n",
      "Loss after mini-batch  2500: 0.047\n",
      "Loss after mini-batch  3000: 0.048\n",
      "Loss after mini-batch  3500: 0.047\n",
      "Loss after mini-batch  4000: 0.047\n",
      "Loss after mini-batch  4500: 0.047\n",
      "Loss after mini-batch  5000: 0.047\n",
      "Loss after mini-batch  5500: 0.048\n",
      "Loss after mini-batch  6000: 0.047\n",
      "Average Val loss: 0.08344101711178518\n",
      "Starting epoch 15\n",
      "Loss after mini-batch   500: 0.039\n",
      "Loss after mini-batch  1000: 0.043\n",
      "Loss after mini-batch  1500: 0.045\n",
      "Loss after mini-batch  2000: 0.044\n",
      "Loss after mini-batch  2500: 0.044\n",
      "Loss after mini-batch  3000: 0.043\n",
      "Loss after mini-batch  3500: 0.044\n",
      "Loss after mini-batch  4000: 0.043\n",
      "Loss after mini-batch  4500: 0.044\n",
      "Loss after mini-batch  5000: 0.043\n",
      "Loss after mini-batch  5500: 0.043\n",
      "Loss after mini-batch  6000: 0.043\n",
      "Average Val loss: 0.08167931093687367\n",
      "Starting epoch 16\n",
      "Loss after mini-batch   500: 0.044\n",
      "Loss after mini-batch  1000: 0.041\n",
      "Loss after mini-batch  1500: 0.039\n",
      "Loss after mini-batch  2000: 0.038\n",
      "Loss after mini-batch  2500: 0.037\n",
      "Loss after mini-batch  3000: 0.036\n",
      "Loss after mini-batch  3500: 0.037\n",
      "Loss after mini-batch  4000: 0.037\n",
      "Loss after mini-batch  4500: 0.037\n",
      "Loss after mini-batch  5000: 0.039\n",
      "Loss after mini-batch  5500: 0.039\n",
      "Loss after mini-batch  6000: 0.039\n",
      "Average Val loss: 0.08390145375073917\n",
      "Starting epoch 17\n",
      "Loss after mini-batch   500: 0.035\n",
      "Loss after mini-batch  1000: 0.031\n",
      "Loss after mini-batch  1500: 0.032\n",
      "Loss after mini-batch  2000: 0.032\n",
      "Loss after mini-batch  2500: 0.032\n",
      "Loss after mini-batch  3000: 0.033\n",
      "Loss after mini-batch  3500: 0.034\n",
      "Loss after mini-batch  4000: 0.033\n",
      "Loss after mini-batch  4500: 0.034\n",
      "Loss after mini-batch  5000: 0.034\n",
      "Loss after mini-batch  5500: 0.035\n",
      "Loss after mini-batch  6000: 0.035\n",
      "Average Val loss: 0.08797975176312685\n",
      "Starting epoch 18\n",
      "Loss after mini-batch   500: 0.027\n",
      "Loss after mini-batch  1000: 0.026\n",
      "Loss after mini-batch  1500: 0.029\n"
     ]
    },
    {
     "name": "stdout",
     "output_type": "stream",
     "text": [
      "Loss after mini-batch  2000: 0.030\n",
      "Loss after mini-batch  2500: 0.032\n",
      "Loss after mini-batch  3000: 0.032\n",
      "Loss after mini-batch  3500: 0.031\n",
      "Loss after mini-batch  4000: 0.031\n",
      "Loss after mini-batch  4500: 0.031\n",
      "Loss after mini-batch  5000: 0.031\n",
      "Loss after mini-batch  5500: 0.031\n",
      "Loss after mini-batch  6000: 0.031\n",
      "Average Val loss: 0.08249020952695355\n",
      "Starting epoch 19\n",
      "Loss after mini-batch   500: 0.025\n",
      "Loss after mini-batch  1000: 0.026\n",
      "Loss after mini-batch  1500: 0.025\n",
      "Loss after mini-batch  2000: 0.025\n",
      "Loss after mini-batch  2500: 0.026\n",
      "Loss after mini-batch  3000: 0.026\n",
      "Loss after mini-batch  3500: 0.026\n",
      "Loss after mini-batch  4000: 0.027\n",
      "Loss after mini-batch  4500: 0.027\n",
      "Loss after mini-batch  5000: 0.027\n",
      "Loss after mini-batch  5500: 0.028\n",
      "Loss after mini-batch  6000: 0.028\n",
      "Average Val loss: 0.08550331588889094\n",
      "Starting epoch 20\n",
      "Loss after mini-batch   500: 0.021\n",
      "Loss after mini-batch  1000: 0.021\n",
      "Loss after mini-batch  1500: 0.021\n",
      "Loss after mini-batch  2000: 0.022\n",
      "Loss after mini-batch  2500: 0.024\n",
      "Loss after mini-batch  3000: 0.024\n",
      "Loss after mini-batch  3500: 0.024\n",
      "Loss after mini-batch  4000: 0.025\n",
      "Loss after mini-batch  4500: 0.025\n",
      "Loss after mini-batch  5000: 0.025\n",
      "Loss after mini-batch  5500: 0.024\n",
      "Loss after mini-batch  6000: 0.025\n",
      "Average Val loss: 0.08728209373910431\n",
      "Starting epoch 21\n",
      "Loss after mini-batch   500: 0.018\n",
      "Loss after mini-batch  1000: 0.018\n",
      "Loss after mini-batch  1500: 0.020\n",
      "Loss after mini-batch  2000: 0.022\n",
      "Loss after mini-batch  2500: 0.021\n",
      "Loss after mini-batch  3000: 0.022\n",
      "Loss after mini-batch  3500: 0.021\n",
      "Loss after mini-batch  4000: 0.021\n",
      "Loss after mini-batch  4500: 0.021\n",
      "Loss after mini-batch  5000: 0.021\n",
      "Loss after mini-batch  5500: 0.021\n",
      "Loss after mini-batch  6000: 0.021\n",
      "Average Val loss: 0.08064384242014602\n",
      "Starting epoch 22\n",
      "Loss after mini-batch   500: 0.019\n",
      "Loss after mini-batch  1000: 0.017\n",
      "Loss after mini-batch  1500: 0.018\n",
      "Loss after mini-batch  2000: 0.018\n",
      "Loss after mini-batch  2500: 0.018\n",
      "Loss after mini-batch  3000: 0.019\n",
      "Loss after mini-batch  3500: 0.019\n",
      "Loss after mini-batch  4000: 0.018\n",
      "Loss after mini-batch  4500: 0.018\n",
      "Loss after mini-batch  5000: 0.019\n",
      "Loss after mini-batch  5500: 0.019\n",
      "Loss after mini-batch  6000: 0.020\n",
      "Average Val loss: 0.08928542562583788\n",
      "Starting epoch 23\n",
      "Loss after mini-batch   500: 0.012\n",
      "Loss after mini-batch  1000: 0.015\n",
      "Loss after mini-batch  1500: 0.014\n",
      "Loss after mini-batch  2000: 0.015\n",
      "Loss after mini-batch  2500: 0.016\n",
      "Loss after mini-batch  3000: 0.016\n",
      "Loss after mini-batch  3500: 0.016\n",
      "Loss after mini-batch  4000: 0.017\n",
      "Loss after mini-batch  4500: 0.017\n",
      "Loss after mini-batch  5000: 0.017\n",
      "Loss after mini-batch  5500: 0.017\n",
      "Loss after mini-batch  6000: 0.017\n",
      "Average Val loss: 0.08391305443335023\n",
      "Starting epoch 24\n",
      "Loss after mini-batch   500: 0.017\n",
      "Loss after mini-batch  1000: 0.015\n",
      "Loss after mini-batch  1500: 0.013\n",
      "Loss after mini-batch  2000: 0.012\n",
      "Loss after mini-batch  2500: 0.014\n",
      "Loss after mini-batch  3000: 0.014\n",
      "Loss after mini-batch  3500: 0.015\n",
      "Loss after mini-batch  4000: 0.015\n",
      "Loss after mini-batch  4500: 0.015\n",
      "Loss after mini-batch  5000: 0.015\n",
      "Loss after mini-batch  5500: 0.015\n",
      "Loss after mini-batch  6000: 0.015\n",
      "Average Val loss: 0.09311184030908544\n",
      "Starting epoch 25\n",
      "Loss after mini-batch   500: 0.013\n",
      "Loss after mini-batch  1000: 0.011\n",
      "Loss after mini-batch  1500: 0.013\n",
      "Loss after mini-batch  2000: 0.013\n",
      "Loss after mini-batch  2500: 0.013\n",
      "Loss after mini-batch  3000: 0.013\n",
      "Loss after mini-batch  3500: 0.013\n",
      "Loss after mini-batch  4000: 0.014\n",
      "Loss after mini-batch  4500: 0.014\n",
      "Loss after mini-batch  5000: 0.014\n",
      "Loss after mini-batch  5500: 0.014\n",
      "Loss after mini-batch  6000: 0.014\n",
      "Average Val loss: 0.08825960938738535\n",
      "Starting epoch 26\n",
      "Loss after mini-batch   500: 0.012\n",
      "Loss after mini-batch  1000: 0.012\n",
      "Loss after mini-batch  1500: 0.011\n",
      "Loss after mini-batch  2000: 0.011\n",
      "Loss after mini-batch  2500: 0.012\n",
      "Loss after mini-batch  3000: 0.012\n",
      "Loss after mini-batch  3500: 0.011\n",
      "Loss after mini-batch  4000: 0.012\n",
      "Loss after mini-batch  4500: 0.012\n",
      "Loss after mini-batch  5000: 0.012\n",
      "Loss after mini-batch  5500: 0.012\n",
      "Loss after mini-batch  6000: 0.012\n",
      "Average Val loss: 0.09355084396779238\n",
      "Starting epoch 27\n",
      "Loss after mini-batch   500: 0.009\n",
      "Loss after mini-batch  1000: 0.011\n",
      "Loss after mini-batch  1500: 0.010\n",
      "Loss after mini-batch  2000: 0.010\n",
      "Loss after mini-batch  2500: 0.010\n",
      "Loss after mini-batch  3000: 0.010\n",
      "Loss after mini-batch  3500: 0.011\n",
      "Loss after mini-batch  4000: 0.011\n",
      "Loss after mini-batch  4500: 0.011\n",
      "Loss after mini-batch  5000: 0.011\n",
      "Loss after mini-batch  5500: 0.011\n",
      "Loss after mini-batch  6000: 0.011\n",
      "Average Val loss: 0.09968605128168201\n",
      "Starting epoch 28\n",
      "Loss after mini-batch   500: 0.007\n",
      "Loss after mini-batch  1000: 0.007\n",
      "Loss after mini-batch  1500: 0.008\n",
      "Loss after mini-batch  2000: 0.007\n",
      "Loss after mini-batch  2500: 0.008\n",
      "Loss after mini-batch  3000: 0.008\n",
      "Loss after mini-batch  3500: 0.007\n",
      "Loss after mini-batch  4000: 0.008\n",
      "Loss after mini-batch  4500: 0.009\n",
      "Loss after mini-batch  5000: 0.009\n",
      "Loss after mini-batch  5500: 0.009\n",
      "Loss after mini-batch  6000: 0.009\n",
      "Average Val loss: 0.10141852632116166\n",
      "Starting epoch 29\n",
      "Loss after mini-batch   500: 0.007\n",
      "Loss after mini-batch  1000: 0.007\n",
      "Loss after mini-batch  1500: 0.006\n",
      "Loss after mini-batch  2000: 0.006\n",
      "Loss after mini-batch  2500: 0.006\n",
      "Loss after mini-batch  3000: 0.007\n",
      "Loss after mini-batch  3500: 0.008\n",
      "Loss after mini-batch  4000: 0.008\n",
      "Loss after mini-batch  4500: 0.008\n",
      "Loss after mini-batch  5000: 0.008\n",
      "Loss after mini-batch  5500: 0.008\n",
      "Loss after mini-batch  6000: 0.008\n",
      "Average Val loss: 0.10139217850907913\n",
      "Starting epoch 30\n",
      "Loss after mini-batch   500: 0.004\n",
      "Loss after mini-batch  1000: 0.005\n",
      "Loss after mini-batch  1500: 0.005\n",
      "Loss after mini-batch  2000: 0.007\n",
      "Loss after mini-batch  2500: 0.007\n",
      "Loss after mini-batch  3000: 0.008\n",
      "Loss after mini-batch  3500: 0.007\n",
      "Loss after mini-batch  4000: 0.007\n",
      "Loss after mini-batch  4500: 0.007\n",
      "Loss after mini-batch  5000: 0.008\n",
      "Loss after mini-batch  5500: 0.008\n",
      "Loss after mini-batch  6000: 0.008\n",
      "Average Val loss: 0.1045601419808429\n",
      "FINISHED TRAINING\n"
     ]
    }
   ],
   "source": [
    "stats_30 = train(model_30, data, config)"
   ]
  },
  {
   "cell_type": "code",
   "execution_count": 14,
   "id": "b1da13cb",
   "metadata": {
    "collapsed": true
   },
   "outputs": [
    {
     "name": "stdout",
     "output_type": "stream",
     "text": [
      "Starting epoch 1\n",
      "Loss after mini-batch   500: 1.904\n",
      "Loss after mini-batch  1000: 0.910\n",
      "Loss after mini-batch  1500: 0.615\n",
      "Loss after mini-batch  2000: 0.498\n",
      "Loss after mini-batch  2500: 0.446\n",
      "Loss after mini-batch  3000: 0.405\n",
      "Loss after mini-batch  3500: 0.375\n",
      "Loss after mini-batch  4000: 0.355\n",
      "Loss after mini-batch  4500: 0.351\n",
      "Loss after mini-batch  5000: 0.328\n",
      "Loss after mini-batch  5500: 0.310\n",
      "Loss after mini-batch  6000: 0.308\n",
      "Average Val loss: 0.28725993633270264\n",
      "Starting epoch 2\n",
      "Loss after mini-batch   500: 0.287\n",
      "Loss after mini-batch  1000: 0.275\n",
      "Loss after mini-batch  1500: 0.279\n",
      "Loss after mini-batch  2000: 0.272\n",
      "Loss after mini-batch  2500: 0.258\n",
      "Loss after mini-batch  3000: 0.264\n",
      "Loss after mini-batch  3500: 0.253\n",
      "Loss after mini-batch  4000: 0.247\n",
      "Loss after mini-batch  4500: 0.247\n",
      "Loss after mini-batch  5000: 0.252\n",
      "Loss after mini-batch  5500: 0.242\n",
      "Loss after mini-batch  6000: 0.236\n",
      "Average Val loss: 0.21383152902126312\n",
      "Starting epoch 3\n",
      "Loss after mini-batch   500: 0.209\n",
      "Loss after mini-batch  1000: 0.214\n",
      "Loss after mini-batch  1500: 0.214\n",
      "Loss after mini-batch  2000: 0.198\n",
      "Loss after mini-batch  2500: 0.216\n",
      "Loss after mini-batch  3000: 0.217\n",
      "Loss after mini-batch  3500: 0.205\n",
      "Loss after mini-batch  4000: 0.180\n",
      "Loss after mini-batch  4500: 0.189\n",
      "Loss after mini-batch  5000: 0.196\n",
      "Loss after mini-batch  5500: 0.179\n",
      "Loss after mini-batch  6000: 0.180\n",
      "Average Val loss: 0.17502567172050476\n",
      "Starting epoch 4\n",
      "Loss after mini-batch   500: 0.155\n",
      "Loss after mini-batch  1000: 0.161\n",
      "Loss after mini-batch  1500: 0.173\n",
      "Loss after mini-batch  2000: 0.175\n",
      "Loss after mini-batch  2500: 0.171\n",
      "Loss after mini-batch  3000: 0.152\n",
      "Loss after mini-batch  3500: 0.164\n",
      "Loss after mini-batch  4000: 0.152\n",
      "Loss after mini-batch  4500: 0.168\n",
      "Loss after mini-batch  5000: 0.161\n",
      "Loss after mini-batch  5500: 0.167\n",
      "Loss after mini-batch  6000: 0.150\n",
      "Average Val loss: 0.14669263362884521\n",
      "Starting epoch 5\n",
      "Loss after mini-batch   500: 0.140\n",
      "Loss after mini-batch  1000: 0.150\n",
      "Loss after mini-batch  1500: 0.146\n",
      "Loss after mini-batch  2000: 0.127\n",
      "Loss after mini-batch  2500: 0.129\n",
      "Loss after mini-batch  3000: 0.142\n",
      "Loss after mini-batch  3500: 0.121\n",
      "Loss after mini-batch  4000: 0.150\n",
      "Loss after mini-batch  4500: 0.146\n",
      "Loss after mini-batch  5000: 0.122\n",
      "Loss after mini-batch  5500: 0.127\n",
      "Loss after mini-batch  6000: 0.129\n",
      "Average Val loss: 0.134494811296463\n",
      "FINISHED TRAINING\n"
     ]
    }
   ],
   "source": [
    "train(model, data, config)"
   ]
  },
  {
   "cell_type": "code",
   "execution_count": 188,
   "id": "4f6e9952",
   "metadata": {},
   "outputs": [],
   "source": [
    "def show_stats(stats):\n",
    "    x_axis = range(1, len(stats['train_losses']) + 1)\n",
    "    plt.plot(x_axis, stats['train_losses'], label='train')\n",
    "    plt.plot(x_axis, stats['val_losses'], label='val')\n",
    "    plt.legend()\n",
    "    plt.xlabel(\"training epoch\")\n",
    "    plt.ylabel(\"loss\")\n",
    "    plt.show()"
   ]
  },
  {
   "cell_type": "code",
   "execution_count": 189,
   "id": "f0087565",
   "metadata": {},
   "outputs": [
    {
     "data": {
      "text/plain": [
       "[0.2978177864775062, 0.2253158323485404]"
      ]
     },
     "execution_count": 189,
     "metadata": {},
     "output_type": "execute_result"
    }
   ],
   "source": [
    "stats['val_losses']"
   ]
  },
  {
   "cell_type": "code",
   "execution_count": 225,
   "id": "991d4084",
   "metadata": {},
   "outputs": [
    {
     "data": {
      "image/png": "[encoded data removed]",
      "text/plain": [
       "<Figure size 640x480 with 1 Axes>"
      ]
     },
     "metadata": {},
     "output_type": "display_data"
    }
   ],
   "source": [
    "show_stats(stats_30)"
   ]
  },
  {
   "cell_type": "code",
   "execution_count": 221,
   "id": "4f1b05d9",
   "metadata": {},
   "outputs": [],
   "source": [
    "import numpy as np\n",
    "np.save('stats/stats_30.npy', stats_30)"
   ]
  },
  {
   "cell_type": "code",
   "execution_count": 222,
   "id": "887001c9",
   "metadata": {},
   "outputs": [],
   "source": [
    "stats_30_l = np.load('stats/stats_30.npy', allow_pickle=True).item()"
   ]
  },
  {
   "cell_type": "code",
   "execution_count": null,
   "id": "3c410f93",
   "metadata": {},
   "outputs": [],
   "source": []
  },
  {
   "attachments": {},
   "cell_type": "markdown",
   "id": "8ab9f3bc",
   "metadata": {},
   "source": [
    "# Inference testing"
   ]
  },
  {
   "cell_type": "code",
   "execution_count": 108,
   "id": "a34fa393",
   "metadata": {},
   "outputs": [],
   "source": [
    "def test_model(model, data_loader):\n",
    "    total_correct = 0\n",
    "    mistakes = []\n",
    "    for i, data in enumerate(data_loader, 0):\n",
    "        # Get inputs\n",
    "        inputs, targets = data\n",
    "        \n",
    "        outputs = model(inputs)\n",
    "        \n",
    "        guesses = torch.argmax(outputs, dim=1)\n",
    "        num_correct = torch.sum(guesses == targets)\n",
    "        total_correct += num_correct\n",
    "        \n",
    "        if (num_correct != len(targets)): \n",
    "            mistake_mask = guesses != targets\n",
    "            mistake_inputs = inputs[mistake_mask]\n",
    "            mistake_targets = targets[mistake_mask]\n",
    "            mistake_outputs = guesses[mistake_mask]\n",
    "            mistakes.append((mistake_inputs, mistake_targets, mistake_outputs))\n",
    "\n",
    "    print(f\"correct guesses: {total_correct}/{len(data_loader.dataset)} ({total_correct / len(data_loader.dataset) * 100}%)\")\n",
    "    \n",
    "    return mistakes"
   ]
  },
  {
   "cell_type": "code",
   "execution_count": 109,
   "id": "3b2600f2",
   "metadata": {},
   "outputs": [
    {
     "name": "stdout",
     "output_type": "stream",
     "text": [
      "correct guesses: 4785/5000 (95.70000457763672%)\n"
     ]
    }
   ],
   "source": [
    "mistakes = test_model(model, test_loader)"
   ]
  },
  {
   "cell_type": "code",
   "execution_count": 110,
   "id": "41c12268",
   "metadata": {},
   "outputs": [
    {
     "data": {
      "text/plain": [
       "215"
      ]
     },
     "execution_count": 110,
     "metadata": {},
     "output_type": "execute_result"
    }
   ],
   "source": [
    "len(mistakes)"
   ]
  },
  {
   "cell_type": "code",
   "execution_count": 42,
   "id": "b0a9078b",
   "metadata": {},
   "outputs": [
    {
     "name": "stdout",
     "output_type": "stream",
     "text": [
      "correct guesses: 57839/60000 (96.3983383178711%)\n"
     ]
    }
   ],
   "source": [
    "test_model(model, train_loader)"
   ]
  },
  {
   "cell_type": "code",
   "execution_count": 43,
   "id": "c6956f2b",
   "metadata": {},
   "outputs": [
    {
     "name": "stdout",
     "output_type": "stream",
     "text": [
      "correct guesses: 4796/5000 (95.92000579833984%)\n"
     ]
    }
   ],
   "source": [
    "test_model(model, val_loader)"
   ]
  },
  {
   "cell_type": "code",
   "execution_count": 128,
   "id": "18a2cf53",
   "metadata": {},
   "outputs": [],
   "source": [
    "def plot_mistake(mistake):\n",
    "    inputs, targets, outputs = mistake\n",
    "    plt.imshow(inputs[0][0], cmap=\"gray\")\n",
    "    plt.title(f\"Guess: {outputs[0]}, Actual: {targets[0]}\")\n",
    "\n",
    "def plot_mistakes(mistakes):\n",
    "    if (len(mistakes) == 0):\n",
    "        return    \n",
    "        \n",
    "    figure = plt.figure(figsize=(10, 8))\n",
    "    cols, rows = 4, 3    \n",
    "    \n",
    "    for i in range(1, cols * rows + 1):        \n",
    "        figure.add_subplot(rows, cols, i)\n",
    "        sample_idx = torch.randint(len(mistakes), size=(1,)).item()\n",
    "        \n",
    "        plot_mistake(mistakes[sample_idx])                \n",
    "        \n",
    "    plt.show()"
   ]
  },
  {
   "cell_type": "code",
   "execution_count": 130,
   "id": "c7a858a2",
   "metadata": {},
   "outputs": [
    {
     "data": {
      "image/png": "[encoded data removed]",
      "text/plain": [
       "<Figure size 1000x800 with 12 Axes>"
      ]
     },
     "metadata": {},
     "output_type": "display_data"
    }
   ],
   "source": [
    "plot_mistakes(mistakes)"
   ]
  },
  {
   "cell_type": "code",
   "execution_count": null,
   "id": "eacbe513",
   "metadata": {},
   "outputs": [],
   "source": []
  }
 ],
 "metadata": {
  "kernelspec": {
   "display_name": "Python 3 (ipykernel)",
   "language": "python",
   "name": "python3"
  },
  "language_info": {
   "codemirror_mode": {
    "name": "ipython",
    "version": 3
   },
   "file_extension": ".py",
   "mimetype": "text/x-python",
   "name": "python",
   "nbconvert_exporter": "python",
   "pygments_lexer": "ipython3",
   "version": "3.10.11"
  }
 },
 "nbformat": 4,
 "nbformat_minor": 5
}
